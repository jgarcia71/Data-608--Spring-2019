{
 "cells": [
  {
   "cell_type": "code",
   "execution_count": 13,
   "metadata": {},
   "outputs": [],
   "source": [
    "import dash\n",
    "import dash_core_components as dcc\n",
    "import dash_html_components as html\n",
    "import plotly.graph_objs as go\n",
    "import random\n",
    "import pandas as pd\n",
    "import numpy as np"
   ]
  },
  {
   "cell_type": "code",
   "execution_count": 5,
   "metadata": {},
   "outputs": [
    {
     "ename": "NameError",
     "evalue": "name 'pd' is not defined",
     "output_type": "error",
     "traceback": [
      "\u001b[1;31m---------------------------------------------------------------------------\u001b[0m",
      "\u001b[1;31mNameError\u001b[0m                                 Traceback (most recent call last)",
      "\u001b[1;32m<ipython-input-5-585225cf07f9>\u001b[0m in \u001b[0;36m<module>\u001b[1;34m\u001b[0m\n\u001b[0;32m      1\u001b[0m \u001b[1;32mimport\u001b[0m \u001b[0mzipfile\u001b[0m\u001b[1;33m\u001b[0m\u001b[1;33m\u001b[0m\u001b[0m\n\u001b[1;32m----> 2\u001b[1;33m \u001b[0mpd\u001b[0m\u001b[1;33m.\u001b[0m\u001b[0moptions\u001b[0m\u001b[1;33m.\u001b[0m\u001b[0mdisplay\u001b[0m\u001b[1;33m.\u001b[0m\u001b[0mfloat_format\u001b[0m \u001b[1;33m=\u001b[0m \u001b[1;34m'{:20,.2f}'\u001b[0m\u001b[1;33m.\u001b[0m\u001b[0mformat\u001b[0m\u001b[1;33m\u001b[0m\u001b[1;33m\u001b[0m\u001b[0m\n\u001b[0m\u001b[0;32m      3\u001b[0m \u001b[1;32mfrom\u001b[0m \u001b[0mio\u001b[0m \u001b[1;32mimport\u001b[0m \u001b[0mBytesIO\u001b[0m\u001b[1;33m\u001b[0m\u001b[1;33m\u001b[0m\u001b[0m\n\u001b[0;32m      4\u001b[0m \u001b[1;32mfrom\u001b[0m \u001b[0mzipfile\u001b[0m \u001b[1;32mimport\u001b[0m \u001b[0mZipFile\u001b[0m\u001b[1;33m\u001b[0m\u001b[1;33m\u001b[0m\u001b[0m\n\u001b[0;32m      5\u001b[0m \u001b[1;32mfrom\u001b[0m \u001b[0murllib\u001b[0m\u001b[1;33m.\u001b[0m\u001b[0mrequest\u001b[0m  \u001b[1;32mimport\u001b[0m \u001b[0murlopen\u001b[0m\u001b[1;33m\u001b[0m\u001b[1;33m\u001b[0m\u001b[0m\n",
      "\u001b[1;31mNameError\u001b[0m: name 'pd' is not defined"
     ]
    }
   ],
   "source": [
    "import zipfile\n",
    "pd.options.display.float_format = '{:20,.2f}'.format\n",
    "from io import BytesIO\n",
    "from zipfile import ZipFile\n",
    "from urllib.request  import urlopen"
   ]
  },
  {
   "cell_type": "code",
   "execution_count": 43,
   "metadata": {},
   "outputs": [
    {
     "ename": "HTTPError",
     "evalue": "HTTP Error 403: Forbidden",
     "output_type": "error",
     "traceback": [
      "\u001b[1;31m---------------------------------------------------------------------------\u001b[0m",
      "\u001b[1;31mHTTPError\u001b[0m                                 Traceback (most recent call last)",
      "\u001b[1;32m<ipython-input-43-0a656de19806>\u001b[0m in \u001b[0;36m<module>\u001b[1;34m\u001b[0m\n\u001b[1;32m----> 1\u001b[1;33m \u001b[0murl\u001b[0m \u001b[1;33m=\u001b[0m \u001b[0murllib\u001b[0m\u001b[1;33m.\u001b[0m\u001b[0mrequest\u001b[0m\u001b[1;33m.\u001b[0m\u001b[0murlopen\u001b[0m\u001b[1;33m(\u001b[0m\u001b[1;34m\"https://s3-us-gov-west-1.amazonaws.com/usaspending-monthly-downloads/2018_all_Contracts_Full_20180415.zip\"\u001b[0m\u001b[1;33m)\u001b[0m\u001b[1;33m\u001b[0m\u001b[1;33m\u001b[0m\u001b[0m\n\u001b[0m\u001b[0;32m      2\u001b[0m \u001b[0mzf\u001b[0m \u001b[1;33m=\u001b[0m \u001b[0mZipFile\u001b[0m\u001b[1;33m(\u001b[0m\u001b[0mBytesIO\u001b[0m\u001b[1;33m(\u001b[0m\u001b[0murl\u001b[0m\u001b[1;33m.\u001b[0m\u001b[0mread\u001b[0m\u001b[1;33m(\u001b[0m\u001b[1;33m)\u001b[0m\u001b[1;33m)\u001b[0m\u001b[1;33m)\u001b[0m\u001b[1;33m\u001b[0m\u001b[1;33m\u001b[0m\u001b[0m\n",
      "\u001b[1;32m~\\Anaconda3\\lib\\urllib\\request.py\u001b[0m in \u001b[0;36murlopen\u001b[1;34m(url, data, timeout, cafile, capath, cadefault, context)\u001b[0m\n\u001b[0;32m    220\u001b[0m     \u001b[1;32melse\u001b[0m\u001b[1;33m:\u001b[0m\u001b[1;33m\u001b[0m\u001b[1;33m\u001b[0m\u001b[0m\n\u001b[0;32m    221\u001b[0m         \u001b[0mopener\u001b[0m \u001b[1;33m=\u001b[0m \u001b[0m_opener\u001b[0m\u001b[1;33m\u001b[0m\u001b[1;33m\u001b[0m\u001b[0m\n\u001b[1;32m--> 222\u001b[1;33m     \u001b[1;32mreturn\u001b[0m \u001b[0mopener\u001b[0m\u001b[1;33m.\u001b[0m\u001b[0mopen\u001b[0m\u001b[1;33m(\u001b[0m\u001b[0murl\u001b[0m\u001b[1;33m,\u001b[0m \u001b[0mdata\u001b[0m\u001b[1;33m,\u001b[0m \u001b[0mtimeout\u001b[0m\u001b[1;33m)\u001b[0m\u001b[1;33m\u001b[0m\u001b[1;33m\u001b[0m\u001b[0m\n\u001b[0m\u001b[0;32m    223\u001b[0m \u001b[1;33m\u001b[0m\u001b[0m\n\u001b[0;32m    224\u001b[0m \u001b[1;32mdef\u001b[0m \u001b[0minstall_opener\u001b[0m\u001b[1;33m(\u001b[0m\u001b[0mopener\u001b[0m\u001b[1;33m)\u001b[0m\u001b[1;33m:\u001b[0m\u001b[1;33m\u001b[0m\u001b[1;33m\u001b[0m\u001b[0m\n",
      "\u001b[1;32m~\\Anaconda3\\lib\\urllib\\request.py\u001b[0m in \u001b[0;36mopen\u001b[1;34m(self, fullurl, data, timeout)\u001b[0m\n\u001b[0;32m    529\u001b[0m         \u001b[1;32mfor\u001b[0m \u001b[0mprocessor\u001b[0m \u001b[1;32min\u001b[0m \u001b[0mself\u001b[0m\u001b[1;33m.\u001b[0m\u001b[0mprocess_response\u001b[0m\u001b[1;33m.\u001b[0m\u001b[0mget\u001b[0m\u001b[1;33m(\u001b[0m\u001b[0mprotocol\u001b[0m\u001b[1;33m,\u001b[0m \u001b[1;33m[\u001b[0m\u001b[1;33m]\u001b[0m\u001b[1;33m)\u001b[0m\u001b[1;33m:\u001b[0m\u001b[1;33m\u001b[0m\u001b[1;33m\u001b[0m\u001b[0m\n\u001b[0;32m    530\u001b[0m             \u001b[0mmeth\u001b[0m \u001b[1;33m=\u001b[0m \u001b[0mgetattr\u001b[0m\u001b[1;33m(\u001b[0m\u001b[0mprocessor\u001b[0m\u001b[1;33m,\u001b[0m \u001b[0mmeth_name\u001b[0m\u001b[1;33m)\u001b[0m\u001b[1;33m\u001b[0m\u001b[1;33m\u001b[0m\u001b[0m\n\u001b[1;32m--> 531\u001b[1;33m             \u001b[0mresponse\u001b[0m \u001b[1;33m=\u001b[0m \u001b[0mmeth\u001b[0m\u001b[1;33m(\u001b[0m\u001b[0mreq\u001b[0m\u001b[1;33m,\u001b[0m \u001b[0mresponse\u001b[0m\u001b[1;33m)\u001b[0m\u001b[1;33m\u001b[0m\u001b[1;33m\u001b[0m\u001b[0m\n\u001b[0m\u001b[0;32m    532\u001b[0m \u001b[1;33m\u001b[0m\u001b[0m\n\u001b[0;32m    533\u001b[0m         \u001b[1;32mreturn\u001b[0m \u001b[0mresponse\u001b[0m\u001b[1;33m\u001b[0m\u001b[1;33m\u001b[0m\u001b[0m\n",
      "\u001b[1;32m~\\Anaconda3\\lib\\urllib\\request.py\u001b[0m in \u001b[0;36mhttp_response\u001b[1;34m(self, request, response)\u001b[0m\n\u001b[0;32m    639\u001b[0m         \u001b[1;32mif\u001b[0m \u001b[1;32mnot\u001b[0m \u001b[1;33m(\u001b[0m\u001b[1;36m200\u001b[0m \u001b[1;33m<=\u001b[0m \u001b[0mcode\u001b[0m \u001b[1;33m<\u001b[0m \u001b[1;36m300\u001b[0m\u001b[1;33m)\u001b[0m\u001b[1;33m:\u001b[0m\u001b[1;33m\u001b[0m\u001b[1;33m\u001b[0m\u001b[0m\n\u001b[0;32m    640\u001b[0m             response = self.parent.error(\n\u001b[1;32m--> 641\u001b[1;33m                 'http', request, response, code, msg, hdrs)\n\u001b[0m\u001b[0;32m    642\u001b[0m \u001b[1;33m\u001b[0m\u001b[0m\n\u001b[0;32m    643\u001b[0m         \u001b[1;32mreturn\u001b[0m \u001b[0mresponse\u001b[0m\u001b[1;33m\u001b[0m\u001b[1;33m\u001b[0m\u001b[0m\n",
      "\u001b[1;32m~\\Anaconda3\\lib\\urllib\\request.py\u001b[0m in \u001b[0;36merror\u001b[1;34m(self, proto, *args)\u001b[0m\n\u001b[0;32m    567\u001b[0m         \u001b[1;32mif\u001b[0m \u001b[0mhttp_err\u001b[0m\u001b[1;33m:\u001b[0m\u001b[1;33m\u001b[0m\u001b[1;33m\u001b[0m\u001b[0m\n\u001b[0;32m    568\u001b[0m             \u001b[0margs\u001b[0m \u001b[1;33m=\u001b[0m \u001b[1;33m(\u001b[0m\u001b[0mdict\u001b[0m\u001b[1;33m,\u001b[0m \u001b[1;34m'default'\u001b[0m\u001b[1;33m,\u001b[0m \u001b[1;34m'http_error_default'\u001b[0m\u001b[1;33m)\u001b[0m \u001b[1;33m+\u001b[0m \u001b[0morig_args\u001b[0m\u001b[1;33m\u001b[0m\u001b[1;33m\u001b[0m\u001b[0m\n\u001b[1;32m--> 569\u001b[1;33m             \u001b[1;32mreturn\u001b[0m \u001b[0mself\u001b[0m\u001b[1;33m.\u001b[0m\u001b[0m_call_chain\u001b[0m\u001b[1;33m(\u001b[0m\u001b[1;33m*\u001b[0m\u001b[0margs\u001b[0m\u001b[1;33m)\u001b[0m\u001b[1;33m\u001b[0m\u001b[1;33m\u001b[0m\u001b[0m\n\u001b[0m\u001b[0;32m    570\u001b[0m \u001b[1;33m\u001b[0m\u001b[0m\n\u001b[0;32m    571\u001b[0m \u001b[1;31m# XXX probably also want an abstract factory that knows when it makes\u001b[0m\u001b[1;33m\u001b[0m\u001b[1;33m\u001b[0m\u001b[1;33m\u001b[0m\u001b[0m\n",
      "\u001b[1;32m~\\Anaconda3\\lib\\urllib\\request.py\u001b[0m in \u001b[0;36m_call_chain\u001b[1;34m(self, chain, kind, meth_name, *args)\u001b[0m\n\u001b[0;32m    501\u001b[0m         \u001b[1;32mfor\u001b[0m \u001b[0mhandler\u001b[0m \u001b[1;32min\u001b[0m \u001b[0mhandlers\u001b[0m\u001b[1;33m:\u001b[0m\u001b[1;33m\u001b[0m\u001b[1;33m\u001b[0m\u001b[0m\n\u001b[0;32m    502\u001b[0m             \u001b[0mfunc\u001b[0m \u001b[1;33m=\u001b[0m \u001b[0mgetattr\u001b[0m\u001b[1;33m(\u001b[0m\u001b[0mhandler\u001b[0m\u001b[1;33m,\u001b[0m \u001b[0mmeth_name\u001b[0m\u001b[1;33m)\u001b[0m\u001b[1;33m\u001b[0m\u001b[1;33m\u001b[0m\u001b[0m\n\u001b[1;32m--> 503\u001b[1;33m             \u001b[0mresult\u001b[0m \u001b[1;33m=\u001b[0m \u001b[0mfunc\u001b[0m\u001b[1;33m(\u001b[0m\u001b[1;33m*\u001b[0m\u001b[0margs\u001b[0m\u001b[1;33m)\u001b[0m\u001b[1;33m\u001b[0m\u001b[1;33m\u001b[0m\u001b[0m\n\u001b[0m\u001b[0;32m    504\u001b[0m             \u001b[1;32mif\u001b[0m \u001b[0mresult\u001b[0m \u001b[1;32mis\u001b[0m \u001b[1;32mnot\u001b[0m \u001b[1;32mNone\u001b[0m\u001b[1;33m:\u001b[0m\u001b[1;33m\u001b[0m\u001b[1;33m\u001b[0m\u001b[0m\n\u001b[0;32m    505\u001b[0m                 \u001b[1;32mreturn\u001b[0m \u001b[0mresult\u001b[0m\u001b[1;33m\u001b[0m\u001b[1;33m\u001b[0m\u001b[0m\n",
      "\u001b[1;32m~\\Anaconda3\\lib\\urllib\\request.py\u001b[0m in \u001b[0;36mhttp_error_default\u001b[1;34m(self, req, fp, code, msg, hdrs)\u001b[0m\n\u001b[0;32m    647\u001b[0m \u001b[1;32mclass\u001b[0m \u001b[0mHTTPDefaultErrorHandler\u001b[0m\u001b[1;33m(\u001b[0m\u001b[0mBaseHandler\u001b[0m\u001b[1;33m)\u001b[0m\u001b[1;33m:\u001b[0m\u001b[1;33m\u001b[0m\u001b[1;33m\u001b[0m\u001b[0m\n\u001b[0;32m    648\u001b[0m     \u001b[1;32mdef\u001b[0m \u001b[0mhttp_error_default\u001b[0m\u001b[1;33m(\u001b[0m\u001b[0mself\u001b[0m\u001b[1;33m,\u001b[0m \u001b[0mreq\u001b[0m\u001b[1;33m,\u001b[0m \u001b[0mfp\u001b[0m\u001b[1;33m,\u001b[0m \u001b[0mcode\u001b[0m\u001b[1;33m,\u001b[0m \u001b[0mmsg\u001b[0m\u001b[1;33m,\u001b[0m \u001b[0mhdrs\u001b[0m\u001b[1;33m)\u001b[0m\u001b[1;33m:\u001b[0m\u001b[1;33m\u001b[0m\u001b[1;33m\u001b[0m\u001b[0m\n\u001b[1;32m--> 649\u001b[1;33m         \u001b[1;32mraise\u001b[0m \u001b[0mHTTPError\u001b[0m\u001b[1;33m(\u001b[0m\u001b[0mreq\u001b[0m\u001b[1;33m.\u001b[0m\u001b[0mfull_url\u001b[0m\u001b[1;33m,\u001b[0m \u001b[0mcode\u001b[0m\u001b[1;33m,\u001b[0m \u001b[0mmsg\u001b[0m\u001b[1;33m,\u001b[0m \u001b[0mhdrs\u001b[0m\u001b[1;33m,\u001b[0m \u001b[0mfp\u001b[0m\u001b[1;33m)\u001b[0m\u001b[1;33m\u001b[0m\u001b[1;33m\u001b[0m\u001b[0m\n\u001b[0m\u001b[0;32m    650\u001b[0m \u001b[1;33m\u001b[0m\u001b[0m\n\u001b[0;32m    651\u001b[0m \u001b[1;32mclass\u001b[0m \u001b[0mHTTPRedirectHandler\u001b[0m\u001b[1;33m(\u001b[0m\u001b[0mBaseHandler\u001b[0m\u001b[1;33m)\u001b[0m\u001b[1;33m:\u001b[0m\u001b[1;33m\u001b[0m\u001b[1;33m\u001b[0m\u001b[0m\n",
      "\u001b[1;31mHTTPError\u001b[0m: HTTP Error 403: Forbidden"
     ]
    }
   ],
   "source": [
    "url = urllib.request.urlopen(\"https://s3-us-gov-west-1.amazonaws.com/usaspending-monthly-downloads/2018_all_Contracts_Full_20180415.zip\")\n",
    "zf = ZipFile(BytesIO(url.read()))"
   ]
  },
  {
   "cell_type": "code",
   "execution_count": 21,
   "metadata": {},
   "outputs": [],
   "source": [
    "csv1 = '2019_all_Contracts_Full_20190410_1.csv'\n",
    "csv2 = '2019_all_Contracts_Full_20190410_2.csv'"
   ]
  },
  {
   "cell_type": "code",
   "execution_count": 22,
   "metadata": {},
   "outputs": [
    {
     "ename": "NameError",
     "evalue": "name 'zf' is not defined",
     "output_type": "error",
     "traceback": [
      "\u001b[1;31m---------------------------------------------------------------------------\u001b[0m",
      "\u001b[1;31mNameError\u001b[0m                                 Traceback (most recent call last)",
      "\u001b[1;32m<ipython-input-22-22bd0ca5d992>\u001b[0m in \u001b[0;36m<module>\u001b[1;34m\u001b[0m\n\u001b[1;32m----> 1\u001b[1;33m \u001b[0mnum_lines\u001b[0m \u001b[1;33m=\u001b[0m \u001b[0msum\u001b[0m\u001b[1;33m(\u001b[0m\u001b[1;36m1\u001b[0m \u001b[1;32mfor\u001b[0m \u001b[0ml\u001b[0m \u001b[1;32min\u001b[0m \u001b[0mzf\u001b[0m\u001b[1;33m.\u001b[0m\u001b[0mopen\u001b[0m\u001b[1;33m(\u001b[0m\u001b[0mcsv1\u001b[0m\u001b[1;33m)\u001b[0m\u001b[1;33m)\u001b[0m\u001b[1;33m\u001b[0m\u001b[1;33m\u001b[0m\u001b[0m\n\u001b[0m\u001b[0;32m      2\u001b[0m \u001b[0msize\u001b[0m \u001b[1;33m=\u001b[0m \u001b[0mint\u001b[0m\u001b[1;33m(\u001b[0m\u001b[0mnum_lines\u001b[0m \u001b[1;33m/\u001b[0m \u001b[1;36m10\u001b[0m\u001b[1;33m)\u001b[0m\u001b[1;33m\u001b[0m\u001b[1;33m\u001b[0m\u001b[0m\n\u001b[0;32m      3\u001b[0m \u001b[0mskip_idx\u001b[0m \u001b[1;33m=\u001b[0m \u001b[0mrandom\u001b[0m\u001b[1;33m.\u001b[0m\u001b[0msample\u001b[0m\u001b[1;33m(\u001b[0m\u001b[0mrange\u001b[0m\u001b[1;33m(\u001b[0m\u001b[1;36m1\u001b[0m\u001b[1;33m,\u001b[0m \u001b[0mnum_lines\u001b[0m\u001b[1;33m)\u001b[0m\u001b[1;33m,\u001b[0m \u001b[0mnum_lines\u001b[0m \u001b[1;33m-\u001b[0m \u001b[0msize\u001b[0m\u001b[1;33m)\u001b[0m\u001b[1;33m\u001b[0m\u001b[1;33m\u001b[0m\u001b[0m\n",
      "\u001b[1;31mNameError\u001b[0m: name 'zf' is not defined"
     ]
    }
   ],
   "source": [
    "num_lines = sum(1 for l in zf.open(csv1))\n",
    "size = int(num_lines / 10)\n",
    "skip_idx = random.sample(range(1, num_lines), num_lines - size)"
   ]
  },
  {
   "cell_type": "code",
   "execution_count": 29,
   "metadata": {},
   "outputs": [
    {
     "ename": "NameError",
     "evalue": "name 'zf' is not defined",
     "output_type": "error",
     "traceback": [
      "\u001b[1;31m---------------------------------------------------------------------------\u001b[0m",
      "\u001b[1;31mNameError\u001b[0m                                 Traceback (most recent call last)",
      "\u001b[1;32m<ipython-input-29-ad2550590c0b>\u001b[0m in \u001b[0;36m<module>\u001b[1;34m\u001b[0m\n\u001b[1;32m----> 1\u001b[1;33m \u001b[0mtemp1\u001b[0m \u001b[1;33m=\u001b[0m \u001b[0mpd\u001b[0m\u001b[1;33m.\u001b[0m\u001b[0mread_csv\u001b[0m\u001b[1;33m(\u001b[0m\u001b[0mzf\u001b[0m\u001b[1;33m.\u001b[0m\u001b[0mopen\u001b[0m\u001b[1;33m(\u001b[0m\u001b[0mcsv1\u001b[0m\u001b[1;33m)\u001b[0m\u001b[1;33m,\u001b[0m \u001b[0mskiprows\u001b[0m\u001b[1;33m=\u001b[0m\u001b[0mskip_idx\u001b[0m\u001b[1;33m,\u001b[0m \u001b[0mlow_memory\u001b[0m\u001b[1;33m=\u001b[0m\u001b[1;32mFalse\u001b[0m\u001b[1;33m)\u001b[0m\u001b[1;33m\u001b[0m\u001b[1;33m\u001b[0m\u001b[0m\n\u001b[0m",
      "\u001b[1;31mNameError\u001b[0m: name 'zf' is not defined"
     ]
    }
   ],
   "source": [
    "temp1 = pd.read_csv(zf.open(csv1), skiprows=skip_idx, low_memory=False)"
   ]
  },
  {
   "cell_type": "code",
   "execution_count": 30,
   "metadata": {},
   "outputs": [
    {
     "ename": "NameError",
     "evalue": "name 'zf' is not defined",
     "output_type": "error",
     "traceback": [
      "\u001b[1;31m---------------------------------------------------------------------------\u001b[0m",
      "\u001b[1;31mNameError\u001b[0m                                 Traceback (most recent call last)",
      "\u001b[1;32m<ipython-input-30-1df0f8d67952>\u001b[0m in \u001b[0;36m<module>\u001b[1;34m\u001b[0m\n\u001b[1;32m----> 1\u001b[1;33m \u001b[0mnum_lines\u001b[0m \u001b[1;33m=\u001b[0m \u001b[0msum\u001b[0m\u001b[1;33m(\u001b[0m\u001b[1;36m1\u001b[0m \u001b[1;32mfor\u001b[0m \u001b[0ml\u001b[0m \u001b[1;32min\u001b[0m \u001b[0mzf\u001b[0m\u001b[1;33m.\u001b[0m\u001b[0mopen\u001b[0m\u001b[1;33m(\u001b[0m\u001b[0mcsv2\u001b[0m\u001b[1;33m)\u001b[0m\u001b[1;33m)\u001b[0m\u001b[1;33m\u001b[0m\u001b[1;33m\u001b[0m\u001b[0m\n\u001b[0m\u001b[0;32m      2\u001b[0m \u001b[0msize\u001b[0m \u001b[1;33m=\u001b[0m \u001b[0mint\u001b[0m\u001b[1;33m(\u001b[0m\u001b[0mnum_lines\u001b[0m \u001b[1;33m/\u001b[0m \u001b[1;36m10\u001b[0m\u001b[1;33m)\u001b[0m\u001b[1;33m\u001b[0m\u001b[1;33m\u001b[0m\u001b[0m\n\u001b[0;32m      3\u001b[0m \u001b[0mskip_idx\u001b[0m \u001b[1;33m=\u001b[0m \u001b[0mrandom\u001b[0m\u001b[1;33m.\u001b[0m\u001b[0msample\u001b[0m\u001b[1;33m(\u001b[0m\u001b[0mrange\u001b[0m\u001b[1;33m(\u001b[0m\u001b[1;36m1\u001b[0m\u001b[1;33m,\u001b[0m \u001b[0mnum_lines\u001b[0m\u001b[1;33m)\u001b[0m\u001b[1;33m,\u001b[0m \u001b[0mnum_lines\u001b[0m \u001b[1;33m-\u001b[0m \u001b[0msize\u001b[0m\u001b[1;33m)\u001b[0m\u001b[1;33m\u001b[0m\u001b[1;33m\u001b[0m\u001b[0m\n\u001b[0;32m      4\u001b[0m \u001b[0mtemp2\u001b[0m \u001b[1;33m=\u001b[0m \u001b[0mpd\u001b[0m\u001b[1;33m.\u001b[0m\u001b[0mread_csv\u001b[0m\u001b[1;33m(\u001b[0m\u001b[0mzf\u001b[0m\u001b[1;33m.\u001b[0m\u001b[0mopen\u001b[0m\u001b[1;33m(\u001b[0m\u001b[0mcsv2\u001b[0m\u001b[1;33m)\u001b[0m\u001b[1;33m,\u001b[0m \u001b[0mskiprows\u001b[0m\u001b[1;33m=\u001b[0m\u001b[0mskip_idx\u001b[0m\u001b[1;33m,\u001b[0m \u001b[0mlow_memory\u001b[0m\u001b[1;33m=\u001b[0m\u001b[1;32mFalse\u001b[0m\u001b[1;33m)\u001b[0m\u001b[1;33m\u001b[0m\u001b[1;33m\u001b[0m\u001b[0m\n",
      "\u001b[1;31mNameError\u001b[0m: name 'zf' is not defined"
     ]
    }
   ],
   "source": [
    "num_lines = sum(1 for l in zf.open(csv2))\n",
    "size = int(num_lines / 10)\n",
    "skip_idx = random.sample(range(1, num_lines), num_lines - size)\n",
    "temp2 = pd.read_csv(zf.open(csv2), skiprows=skip_idx, low_memory=False)FFdata = pd.concat([temp1, temp2])"
   ]
  },
  {
   "cell_type": "code",
   "execution_count": 31,
   "metadata": {},
   "outputs": [
    {
     "ename": "NameError",
     "evalue": "name 'temp1' is not defined",
     "output_type": "error",
     "traceback": [
      "\u001b[1;31m---------------------------------------------------------------------------\u001b[0m",
      "\u001b[1;31mNameError\u001b[0m                                 Traceback (most recent call last)",
      "\u001b[1;32m<ipython-input-31-b86cf5a0b5d1>\u001b[0m in \u001b[0;36m<module>\u001b[1;34m\u001b[0m\n\u001b[1;32m----> 1\u001b[1;33m \u001b[0mFFdata\u001b[0m \u001b[1;33m=\u001b[0m \u001b[0mpd\u001b[0m\u001b[1;33m.\u001b[0m\u001b[0mconcat\u001b[0m\u001b[1;33m(\u001b[0m\u001b[1;33m[\u001b[0m\u001b[0mtemp1\u001b[0m\u001b[1;33m,\u001b[0m \u001b[0mtemp2\u001b[0m\u001b[1;33m]\u001b[0m\u001b[1;33m)\u001b[0m\u001b[1;33m\u001b[0m\u001b[1;33m\u001b[0m\u001b[0m\n\u001b[0m",
      "\u001b[1;31mNameError\u001b[0m: name 'temp1' is not defined"
     ]
    }
   ],
   "source": [
    "FFdata = pd.concat([temp1, temp2])"
   ]
  },
  {
   "cell_type": "code",
   "execution_count": 32,
   "metadata": {},
   "outputs": [
    {
     "ename": "NameError",
     "evalue": "name 'FFdata' is not defined",
     "output_type": "error",
     "traceback": [
      "\u001b[1;31m---------------------------------------------------------------------------\u001b[0m",
      "\u001b[1;31mNameError\u001b[0m                                 Traceback (most recent call last)",
      "\u001b[1;32m<ipython-input-32-1fc5bf636e57>\u001b[0m in \u001b[0;36m<module>\u001b[1;34m\u001b[0m\n\u001b[1;32m----> 1\u001b[1;33m \u001b[0mdf\u001b[0m \u001b[1;33m=\u001b[0m \u001b[0mFFdata\u001b[0m\u001b[1;33m[\u001b[0m\u001b[0mFFdata\u001b[0m\u001b[1;33m.\u001b[0m\u001b[0maward_id_piid\u001b[0m \u001b[1;33m!=\u001b[0m \u001b[1;34m't'\u001b[0m\u001b[1;33m]\u001b[0m\u001b[1;33m\u001b[0m\u001b[1;33m\u001b[0m\u001b[0m\n\u001b[0m\u001b[0;32m      2\u001b[0m \u001b[0mdf\u001b[0m \u001b[1;33m=\u001b[0m \u001b[0mdf\u001b[0m\u001b[1;33m[\u001b[0m\u001b[0mdf\u001b[0m\u001b[1;33m.\u001b[0m\u001b[0mrecipient_country_name\u001b[0m \u001b[1;33m==\u001b[0m \u001b[1;34m'UNITED STATES'\u001b[0m\u001b[1;33m]\u001b[0m\u001b[1;33m\u001b[0m\u001b[1;33m\u001b[0m\u001b[0m\n\u001b[0;32m      3\u001b[0m \u001b[1;31m#   The second clean up was based upon the actual value of the contract.  The contract had to have a value of at least $1 USD for it to be considered a part of this exercise.\u001b[0m\u001b[1;33m\u001b[0m\u001b[1;33m\u001b[0m\u001b[1;33m\u001b[0m\u001b[0m\n\u001b[0;32m      4\u001b[0m \u001b[0mdf\u001b[0m \u001b[1;33m=\u001b[0m \u001b[0mdf\u001b[0m\u001b[1;33m[\u001b[0m\u001b[0mdf\u001b[0m\u001b[1;33m.\u001b[0m\u001b[0mbase_and_exercised_options_value\u001b[0m \u001b[1;33m>\u001b[0m\u001b[1;36m0\u001b[0m \u001b[1;33m]\u001b[0m\u001b[1;33m\u001b[0m\u001b[1;33m\u001b[0m\u001b[0m\n",
      "\u001b[1;31mNameError\u001b[0m: name 'FFdata' is not defined"
     ]
    }
   ],
   "source": [
    "df = FFdata[FFdata.award_id_piid != 't']\n",
    "df = df[df.recipient_country_name == 'UNITED STATES']\n",
    "df = df[df.base_and_exercised_options_value >0 ]"
   ]
  },
  {
   "cell_type": "code",
   "execution_count": 33,
   "metadata": {},
   "outputs": [
    {
     "ename": "NameError",
     "evalue": "name 'df' is not defined",
     "output_type": "error",
     "traceback": [
      "\u001b[1;31m---------------------------------------------------------------------------\u001b[0m",
      "\u001b[1;31mNameError\u001b[0m                                 Traceback (most recent call last)",
      "\u001b[1;32m<ipython-input-33-83f6d9667ced>\u001b[0m in \u001b[0;36m<module>\u001b[1;34m\u001b[0m\n\u001b[1;32m----> 1\u001b[1;33m \u001b[0mdf1\u001b[0m \u001b[1;33m=\u001b[0m \u001b[0mdf\u001b[0m\u001b[1;33m.\u001b[0m\u001b[0miloc\u001b[0m\u001b[1;33m[\u001b[0m\u001b[1;33m:\u001b[0m\u001b[1;33m,\u001b[0m\u001b[1;33m[\u001b[0m\u001b[1;36m8\u001b[0m\u001b[1;33m,\u001b[0m\u001b[1;36m9\u001b[0m\u001b[1;33m,\u001b[0m\u001b[1;36m20\u001b[0m\u001b[1;33m,\u001b[0m\u001b[1;36m22\u001b[0m\u001b[1;33m,\u001b[0m\u001b[1;36m41\u001b[0m\u001b[1;33m,\u001b[0m\u001b[1;36m76\u001b[0m\u001b[1;33m,\u001b[0m\u001b[1;36m162\u001b[0m\u001b[1;33m,\u001b[0m\u001b[1;36m163\u001b[0m\u001b[1;33m,\u001b[0m\u001b[1;36m164\u001b[0m\u001b[1;33m,\u001b[0m\u001b[1;36m165\u001b[0m\u001b[1;33m,\u001b[0m\u001b[1;36m166\u001b[0m\u001b[1;33m,\u001b[0m\u001b[1;36m167\u001b[0m\u001b[1;33m,\u001b[0m\u001b[1;36m168\u001b[0m\u001b[1;33m,\u001b[0m\u001b[1;36m169\u001b[0m\u001b[1;33m,\u001b[0m\u001b[1;36m170\u001b[0m\u001b[1;33m,\u001b[0m\u001b[1;36m171\u001b[0m\u001b[1;33m,\u001b[0m\u001b[1;36m172\u001b[0m\u001b[1;33m,\u001b[0m\u001b[1;36m173\u001b[0m\u001b[1;33m,\u001b[0m\u001b[1;36m174\u001b[0m\u001b[1;33m,\u001b[0m\u001b[1;36m175\u001b[0m\u001b[1;33m,\u001b[0m\u001b[1;36m176\u001b[0m\u001b[1;33m,\u001b[0m\u001b[1;36m177\u001b[0m\u001b[1;33m,\u001b[0m\u001b[1;36m178\u001b[0m\u001b[1;33m,\u001b[0m\u001b[1;36m179\u001b[0m\u001b[1;33m,\u001b[0m\u001b[1;36m180\u001b[0m\u001b[1;33m]\u001b[0m\u001b[1;33m]\u001b[0m\u001b[1;33m\u001b[0m\u001b[1;33m\u001b[0m\u001b[0m\n\u001b[0m",
      "\u001b[1;31mNameError\u001b[0m: name 'df' is not defined"
     ]
    }
   ],
   "source": [
    "df1 = df.iloc[:,[8,9,20,22,41,76,162,163,164,165,166,167,168,169,170,171,172,173,174,175,176,177,178,179,180]]\n",
    "df1list = list(df1.iloc[:,5:24].columns.values)\n",
    "df1 = df1.applymap(lambda x: 1 if x == 't' else x)\n",
    "df1 = df1.applymap(lambda x: 0 if x == 'f' else x)"
   ]
  },
  {
   "cell_type": "code",
   "execution_count": 7,
   "metadata": {},
   "outputs": [
    {
     "ename": "NameError",
     "evalue": "name 'df1list' is not defined",
     "output_type": "error",
     "traceback": [
      "\u001b[1;31m---------------------------------------------------------------------------\u001b[0m",
      "\u001b[1;31mNameError\u001b[0m                                 Traceback (most recent call last)",
      "\u001b[1;32m<ipython-input-7-4abe9085ed88>\u001b[0m in \u001b[0;36m<module>\u001b[1;34m\u001b[0m\n\u001b[1;32m----> 1\u001b[1;33m \u001b[0mcols\u001b[0m \u001b[1;33m=\u001b[0m \u001b[0mdf1list\u001b[0m\u001b[1;33m\u001b[0m\u001b[1;33m\u001b[0m\u001b[0m\n\u001b[0m\u001b[0;32m      2\u001b[0m \u001b[0mdf1\u001b[0m\u001b[1;33m[\u001b[0m\u001b[0mcols\u001b[0m\u001b[1;33m]\u001b[0m \u001b[1;33m=\u001b[0m \u001b[0mdf1\u001b[0m\u001b[1;33m[\u001b[0m\u001b[0mcols\u001b[0m\u001b[1;33m]\u001b[0m\u001b[1;33m.\u001b[0m\u001b[0mapply\u001b[0m\u001b[1;33m(\u001b[0m\u001b[0mpd\u001b[0m\u001b[1;33m.\u001b[0m\u001b[0mto_numeric\u001b[0m\u001b[1;33m,\u001b[0m \u001b[0merrors\u001b[0m\u001b[1;33m=\u001b[0m\u001b[1;34m'coerce'\u001b[0m\u001b[1;33m,\u001b[0m \u001b[0maxis\u001b[0m\u001b[1;33m=\u001b[0m\u001b[1;36m1\u001b[0m\u001b[1;33m)\u001b[0m\u001b[1;33m\u001b[0m\u001b[1;33m\u001b[0m\u001b[0m\n\u001b[0;32m      3\u001b[0m \u001b[0mdf1\u001b[0m\u001b[1;33m[\u001b[0m\u001b[1;34m'sum'\u001b[0m\u001b[1;33m]\u001b[0m\u001b[1;33m=\u001b[0m\u001b[0mdf1\u001b[0m\u001b[1;33m.\u001b[0m\u001b[0miloc\u001b[0m\u001b[1;33m[\u001b[0m\u001b[1;33m:\u001b[0m\u001b[1;33m,\u001b[0m\u001b[1;36m6\u001b[0m\u001b[1;33m:\u001b[0m\u001b[1;36m25\u001b[0m\u001b[1;33m]\u001b[0m\u001b[1;33m.\u001b[0m\u001b[0msum\u001b[0m\u001b[1;33m(\u001b[0m\u001b[0maxis\u001b[0m\u001b[1;33m=\u001b[0m\u001b[1;36m1\u001b[0m\u001b[1;33m)\u001b[0m\u001b[1;33m\u001b[0m\u001b[1;33m\u001b[0m\u001b[0m\n\u001b[0;32m      4\u001b[0m \u001b[0mdf1\u001b[0m \u001b[1;33m=\u001b[0m \u001b[0mdf1\u001b[0m\u001b[1;33m.\u001b[0m\u001b[0msort_values\u001b[0m\u001b[1;33m(\u001b[0m\u001b[1;34m'sum'\u001b[0m\u001b[1;33m,\u001b[0m \u001b[0mascending\u001b[0m\u001b[1;33m=\u001b[0m\u001b[1;33m[\u001b[0m\u001b[1;32mFalse\u001b[0m\u001b[1;33m]\u001b[0m\u001b[1;33m)\u001b[0m\u001b[1;33m\u001b[0m\u001b[1;33m\u001b[0m\u001b[0m\n\u001b[0;32m      5\u001b[0m \u001b[0mdf1\u001b[0m\u001b[1;33m[\u001b[0m\u001b[1;34m'minority'\u001b[0m\u001b[1;33m]\u001b[0m \u001b[1;33m=\u001b[0m \u001b[0mnp\u001b[0m\u001b[1;33m.\u001b[0m\u001b[0mwhere\u001b[0m\u001b[1;33m(\u001b[0m\u001b[0mdf1\u001b[0m\u001b[1;33m[\u001b[0m\u001b[1;34m'sum'\u001b[0m\u001b[1;33m]\u001b[0m\u001b[1;33m>\u001b[0m\u001b[1;36m0\u001b[0m\u001b[1;33m,\u001b[0m \u001b[1;34m'Minority'\u001b[0m\u001b[1;33m,\u001b[0m \u001b[1;34m'Non-Minority'\u001b[0m\u001b[1;33m)\u001b[0m\u001b[1;33m\u001b[0m\u001b[1;33m\u001b[0m\u001b[0m\n",
      "\u001b[1;31mNameError\u001b[0m: name 'df1list' is not defined"
     ]
    }
   ],
   "source": [
    "cols = df1list\n",
    "df1[cols] = df1[cols].apply(pd.to_numeric, errors='coerce', axis=1)\n",
    "df1['sum']=df1.iloc[:,6:25].sum(axis=1)\n",
    "df1 = df1.sort_values('sum', ascending=[False])\n",
    "df1['minority'] = np.where(df1['sum']>0, 'Minority', 'Non-Minority')\n",
    "df1['funding_agency_name'] = df1['funding_agency_name'].str.split('(', 1).str[0].str.title()+' ('+df1['funding_agency_name'].str.split('(', 1).str[1]\n",
    "df2 = df1"
   ]
  },
  {
   "cell_type": "code",
   "execution_count": 8,
   "metadata": {},
   "outputs": [
    {
     "ename": "NameError",
     "evalue": "name 'df1' is not defined",
     "output_type": "error",
     "traceback": [
      "\u001b[1;31m---------------------------------------------------------------------------\u001b[0m",
      "\u001b[1;31mNameError\u001b[0m                                 Traceback (most recent call last)",
      "\u001b[1;32m<ipython-input-8-a9133d2338b9>\u001b[0m in \u001b[0;36m<module>\u001b[1;34m\u001b[0m\n\u001b[1;32m----> 1\u001b[1;33m \u001b[0magency_options\u001b[0m \u001b[1;33m=\u001b[0m \u001b[0mdf1\u001b[0m\u001b[1;33m[\u001b[0m\u001b[1;34m'funding_agency_name'\u001b[0m\u001b[1;33m]\u001b[0m\u001b[1;33m.\u001b[0m\u001b[0munique\u001b[0m\u001b[1;33m(\u001b[0m\u001b[1;33m)\u001b[0m\u001b[1;33m\u001b[0m\u001b[1;33m\u001b[0m\u001b[0m\n\u001b[0m",
      "\u001b[1;31mNameError\u001b[0m: name 'df1' is not defined"
     ]
    }
   ],
   "source": [
    "agency_options = df1['funding_agency_name'].unique()"
   ]
  },
  {
   "cell_type": "code",
   "execution_count": 9,
   "metadata": {},
   "outputs": [
    {
     "ename": "NameError",
     "evalue": "name 'df2' is not defined",
     "output_type": "error",
     "traceback": [
      "\u001b[1;31m---------------------------------------------------------------------------\u001b[0m",
      "\u001b[1;31mNameError\u001b[0m                                 Traceback (most recent call last)",
      "\u001b[1;32m<ipython-input-9-a4fbdaabe6b8>\u001b[0m in \u001b[0;36m<module>\u001b[1;34m\u001b[0m\n\u001b[1;32m----> 1\u001b[1;33m \u001b[0mdf2\u001b[0m \u001b[1;33m=\u001b[0m \u001b[0mdf2\u001b[0m\u001b[1;33m.\u001b[0m\u001b[0miloc\u001b[0m\u001b[1;33m[\u001b[0m\u001b[1;33m:\u001b[0m\u001b[1;33m,\u001b[0m\u001b[1;36m0\u001b[0m\u001b[1;33m:\u001b[0m\u001b[1;36m25\u001b[0m\u001b[1;33m]\u001b[0m\u001b[1;33m\u001b[0m\u001b[1;33m\u001b[0m\u001b[0m\n\u001b[0m\u001b[0;32m      2\u001b[0m \u001b[0midx\u001b[0m \u001b[1;33m=\u001b[0m \u001b[0mlist\u001b[0m\u001b[1;33m(\u001b[0m\u001b[0mdf2\u001b[0m\u001b[1;33m.\u001b[0m\u001b[0miloc\u001b[0m\u001b[1;33m[\u001b[0m\u001b[1;33m:\u001b[0m\u001b[1;33m,\u001b[0m\u001b[1;36m0\u001b[0m\u001b[1;33m:\u001b[0m\u001b[1;36m6\u001b[0m\u001b[1;33m]\u001b[0m\u001b[1;33m.\u001b[0m\u001b[0mcolumns\u001b[0m\u001b[1;33m.\u001b[0m\u001b[0mvalues\u001b[0m\u001b[1;33m)\u001b[0m\u001b[1;33m\u001b[0m\u001b[1;33m\u001b[0m\u001b[0m\n\u001b[0;32m      3\u001b[0m \u001b[0mdf3\u001b[0m \u001b[1;33m=\u001b[0m \u001b[0mdf2\u001b[0m\u001b[1;33m.\u001b[0m\u001b[0mset_index\u001b[0m\u001b[1;33m(\u001b[0m\u001b[0midx\u001b[0m\u001b[1;33m)\u001b[0m\u001b[1;33m\u001b[0m\u001b[1;33m\u001b[0m\u001b[0m\n\u001b[0;32m      4\u001b[0m \u001b[0mdf4\u001b[0m \u001b[1;33m=\u001b[0m \u001b[0mdf3\u001b[0m\u001b[1;33m.\u001b[0m\u001b[0mstack\u001b[0m\u001b[1;33m(\u001b[0m\u001b[0mdropna\u001b[0m\u001b[1;33m=\u001b[0m\u001b[1;32mFalse\u001b[0m\u001b[1;33m)\u001b[0m\u001b[1;33m\u001b[0m\u001b[1;33m\u001b[0m\u001b[0m\n\u001b[0;32m      5\u001b[0m \u001b[0mdf4\u001b[0m \u001b[1;33m=\u001b[0m \u001b[0mdf4\u001b[0m\u001b[1;33m.\u001b[0m\u001b[0mreset_index\u001b[0m\u001b[1;33m(\u001b[0m\u001b[1;33m)\u001b[0m\u001b[1;33m\u001b[0m\u001b[1;33m\u001b[0m\u001b[0m\n",
      "\u001b[1;31mNameError\u001b[0m: name 'df2' is not defined"
     ]
    }
   ],
   "source": [
    "df2 = df2.iloc[:,0:25]\n",
    "idx = list(df2.iloc[:,0:6].columns.values)\n",
    "df3 = df2.set_index(idx)\n",
    "df4 = df3.stack(dropna=False)\n",
    "df4 = df4.reset_index()\n",
    "df4 = df4[df4[0]>0]\n",
    "df5 = df4.groupby(['funding_agency_name','recipient_state_name','level_6'])[[\"base_and_exercised_options_value\"]].mean()\n",
    "df5 = df5.reset_index()\n",
    "df5['level_6'] = df5['level_6'].str.split('_', 2).str[0]+' '+df5['level_6'].str.split('_', 2).str[1]\n",
    "df5['level_6'] = df5['level_6'].str.replace(\"women owned\",\"woman owned\")\n",
    "df5['level_6'] = df5['level_6'].str.replace(\"other minority\",\"minority owned\")\n",
    "df5['level_6'] = df5['level_6'].str.replace(\"american indian\",\"native american\")\n",
    "df5['level_6'] = df5['level_6'].str.replace(\"indian tribe\",\"native american\")\n",
    "df5['level_6'] = df5['level_6'].str.replace(\"tribally owned\",\"native american\")\n",
    "#df5['level_6'] = df5['level_6'].str.title()\n",
    "df5 = df5.sort_values(by=['base_and_exercised_options_value'], ascending=[False])\n",
    "df5['level_6'] = df5['level_6'].str.title()"
   ]
  },
  {
   "cell_type": "code",
   "execution_count": 10,
   "metadata": {},
   "outputs": [
    {
     "ename": "NameError",
     "evalue": "name 'df1' is not defined",
     "output_type": "error",
     "traceback": [
      "\u001b[1;31m---------------------------------------------------------------------------\u001b[0m",
      "\u001b[1;31mNameError\u001b[0m                                 Traceback (most recent call last)",
      "\u001b[1;32m<ipython-input-10-adb0b04b5a1a>\u001b[0m in \u001b[0;36m<module>\u001b[1;34m\u001b[0m\n\u001b[1;32m----> 1\u001b[1;33m \u001b[0mall\u001b[0m \u001b[1;33m=\u001b[0m \u001b[0mdf1\u001b[0m\u001b[1;33m.\u001b[0m\u001b[0miloc\u001b[0m\u001b[1;33m[\u001b[0m\u001b[1;33m:\u001b[0m\u001b[1;33m,\u001b[0m\u001b[1;33m[\u001b[0m\u001b[1;36m0\u001b[0m\u001b[1;33m,\u001b[0m\u001b[1;36m26\u001b[0m\u001b[1;33m]\u001b[0m\u001b[1;33m]\u001b[0m\u001b[1;33m\u001b[0m\u001b[1;33m\u001b[0m\u001b[0m\n\u001b[0m\u001b[0;32m      2\u001b[0m \u001b[0mall\u001b[0m \u001b[1;33m=\u001b[0m \u001b[0mall\u001b[0m\u001b[1;33m.\u001b[0m\u001b[0mgroupby\u001b[0m\u001b[1;33m(\u001b[0m\u001b[1;33m[\u001b[0m\u001b[1;34m'minority'\u001b[0m\u001b[1;33m]\u001b[0m\u001b[1;33m)\u001b[0m\u001b[1;33m.\u001b[0m\u001b[0msum\u001b[0m\u001b[1;33m(\u001b[0m\u001b[1;33m)\u001b[0m\u001b[1;33m\u001b[0m\u001b[1;33m\u001b[0m\u001b[0m\n\u001b[0;32m      3\u001b[0m \u001b[0mall\u001b[0m \u001b[1;33m=\u001b[0m \u001b[0mall\u001b[0m\u001b[1;33m.\u001b[0m\u001b[0mreset_index\u001b[0m\u001b[1;33m(\u001b[0m\u001b[1;33m)\u001b[0m\u001b[1;33m\u001b[0m\u001b[1;33m\u001b[0m\u001b[0m\n",
      "\u001b[1;31mNameError\u001b[0m: name 'df1' is not defined"
     ]
    }
   ],
   "source": [
    "all = df1.iloc[:,[0,26]]\n",
    "all = all.groupby(['minority']).sum()\n",
    "all = all.reset_index()"
   ]
  },
  {
   "cell_type": "code",
   "execution_count": 11,
   "metadata": {},
   "outputs": [
    {
     "ename": "NameError",
     "evalue": "name 'df1' is not defined",
     "output_type": "error",
     "traceback": [
      "\u001b[1;31m---------------------------------------------------------------------------\u001b[0m",
      "\u001b[1;31mNameError\u001b[0m                                 Traceback (most recent call last)",
      "\u001b[1;32m<ipython-input-11-2c4dad4ab179>\u001b[0m in \u001b[0;36m<module>\u001b[1;34m\u001b[0m\n\u001b[1;32m----> 1\u001b[1;33m \u001b[0mallm\u001b[0m \u001b[1;33m=\u001b[0m \u001b[0mdf1\u001b[0m\u001b[1;33m.\u001b[0m\u001b[0miloc\u001b[0m\u001b[1;33m[\u001b[0m\u001b[1;33m:\u001b[0m\u001b[1;33m,\u001b[0m\u001b[1;33m[\u001b[0m\u001b[1;36m0\u001b[0m\u001b[1;33m,\u001b[0m\u001b[1;36m3\u001b[0m\u001b[1;33m,\u001b[0m\u001b[1;36m26\u001b[0m\u001b[1;33m]\u001b[0m\u001b[1;33m]\u001b[0m\u001b[1;33m\u001b[0m\u001b[1;33m\u001b[0m\u001b[0m\n\u001b[0m\u001b[0;32m      2\u001b[0m \u001b[0mallm\u001b[0m \u001b[1;33m=\u001b[0m \u001b[0mallm\u001b[0m\u001b[1;33m.\u001b[0m\u001b[0mgroupby\u001b[0m\u001b[1;33m(\u001b[0m\u001b[1;33m[\u001b[0m\u001b[1;34m'funding_agency_name'\u001b[0m\u001b[1;33m,\u001b[0m\u001b[1;34m'minority'\u001b[0m\u001b[1;33m]\u001b[0m\u001b[1;33m)\u001b[0m\u001b[1;33m.\u001b[0m\u001b[0msum\u001b[0m\u001b[1;33m(\u001b[0m\u001b[1;33m)\u001b[0m\u001b[1;33m\u001b[0m\u001b[1;33m\u001b[0m\u001b[0m\n\u001b[0;32m      3\u001b[0m \u001b[0mallm\u001b[0m \u001b[1;33m=\u001b[0m \u001b[0mallm\u001b[0m\u001b[1;33m.\u001b[0m\u001b[0mreset_index\u001b[0m\u001b[1;33m(\u001b[0m\u001b[1;33m)\u001b[0m\u001b[1;33m\u001b[0m\u001b[1;33m\u001b[0m\u001b[0m\n\u001b[0;32m      4\u001b[0m \u001b[0mallmt\u001b[0m \u001b[1;33m=\u001b[0m \u001b[0mallm\u001b[0m\u001b[1;33m.\u001b[0m\u001b[0msort_values\u001b[0m\u001b[1;33m(\u001b[0m\u001b[0mby\u001b[0m\u001b[1;33m=\u001b[0m\u001b[1;33m[\u001b[0m\u001b[1;34m'base_and_exercised_options_value'\u001b[0m\u001b[1;33m,\u001b[0m\u001b[1;34m'minority'\u001b[0m\u001b[1;33m]\u001b[0m\u001b[1;33m,\u001b[0m\u001b[0mascending\u001b[0m\u001b[1;33m=\u001b[0m\u001b[1;33m[\u001b[0m\u001b[1;32mFalse\u001b[0m\u001b[1;33m,\u001b[0m\u001b[1;32mFalse\u001b[0m\u001b[1;33m]\u001b[0m\u001b[1;33m)\u001b[0m\u001b[1;33m[\u001b[0m\u001b[0mallm\u001b[0m\u001b[1;33m[\u001b[0m\u001b[1;34m'base_and_exercised_options_value'\u001b[0m\u001b[1;33m]\u001b[0m\u001b[1;33m>\u001b[0m\u001b[1;36m1000000\u001b[0m\u001b[1;33m]\u001b[0m\u001b[1;33m\u001b[0m\u001b[1;33m\u001b[0m\u001b[0m\n\u001b[0;32m      5\u001b[0m \u001b[0mallmt\u001b[0m \u001b[1;33m=\u001b[0m \u001b[0mpd\u001b[0m\u001b[1;33m.\u001b[0m\u001b[0mDataFrame\u001b[0m\u001b[1;33m(\u001b[0m\u001b[0mallmt\u001b[0m\u001b[1;33m[\u001b[0m\u001b[1;34m'funding_agency_name'\u001b[0m\u001b[1;33m]\u001b[0m\u001b[1;33m.\u001b[0m\u001b[0munique\u001b[0m\u001b[1;33m(\u001b[0m\u001b[1;33m)\u001b[0m\u001b[1;33m)\u001b[0m\u001b[1;33m\u001b[0m\u001b[1;33m\u001b[0m\u001b[0m\n",
      "\u001b[1;31mNameError\u001b[0m: name 'df1' is not defined"
     ]
    }
   ],
   "source": [
    "allm = df1.iloc[:,[0,3,26]]\n",
    "allm = allm.groupby(['funding_agency_name','minority']).sum()\n",
    "allm = allm.reset_index()\n",
    "allmt = allm.sort_values(by=['base_and_exercised_options_value','minority'],ascending=[False,False])[allm['base_and_exercised_options_value']>1000000]\n",
    "allmt = pd.DataFrame(allmt['funding_agency_name'].unique())\n",
    "allmt.columns = ['funding_agency_name']\n",
    "allm = pd.merge(allmt, allm, on='funding_agency_name')\n",
    "allm = allm.sort_values(by=['base_and_exercised_options_value'], ascending=[True])\n",
    "allm = pd.merge(allm,allm.groupby(by=['funding_agency_name'])[['base_and_exercised_options_value']].sum().reset_index(), on='funding_agency_name')\n",
    "allm.columns = ['funding_agency_name','minority','base_and_exercised_options_value','percentage']\n",
    "allm['percentage'] =  round(allm['base_and_exercised_options_value']/allm['percentage'],2)"
   ]
  },
  {
   "cell_type": "code",
   "execution_count": 12,
   "metadata": {},
   "outputs": [
    {
     "ename": "NameError",
     "evalue": "name 'df1' is not defined",
     "output_type": "error",
     "traceback": [
      "\u001b[1;31m---------------------------------------------------------------------------\u001b[0m",
      "\u001b[1;31mNameError\u001b[0m                                 Traceback (most recent call last)",
      "\u001b[1;32m<ipython-input-12-3d0f10afa292>\u001b[0m in \u001b[0;36m<module>\u001b[1;34m\u001b[0m\n\u001b[1;32m----> 1\u001b[1;33m \u001b[0mdf1\u001b[0m \u001b[1;33m=\u001b[0m \u001b[0mdf1\u001b[0m\u001b[1;33m.\u001b[0m\u001b[0mdropna\u001b[0m\u001b[1;33m(\u001b[0m\u001b[0msubset\u001b[0m\u001b[1;33m=\u001b[0m\u001b[1;33m[\u001b[0m\u001b[1;34m'recipient_state_name'\u001b[0m\u001b[1;33m]\u001b[0m\u001b[1;33m)\u001b[0m\u001b[1;33m\u001b[0m\u001b[1;33m\u001b[0m\u001b[0m\n\u001b[0m\u001b[0;32m      2\u001b[0m \u001b[0mdf1\u001b[0m\u001b[1;33m[\u001b[0m\u001b[1;34m'recipient_state_name'\u001b[0m\u001b[1;33m]\u001b[0m \u001b[1;33m=\u001b[0m \u001b[0mdf1\u001b[0m\u001b[1;33m[\u001b[0m\u001b[1;34m'recipient_state_name'\u001b[0m\u001b[1;33m]\u001b[0m\u001b[1;33m.\u001b[0m\u001b[0mapply\u001b[0m\u001b[1;33m(\u001b[0m\u001b[1;32mlambda\u001b[0m \u001b[0mx\u001b[0m\u001b[1;33m:\u001b[0m \u001b[0mus_state_abbrev\u001b[0m\u001b[1;33m[\u001b[0m\u001b[0mx\u001b[0m\u001b[1;33m]\u001b[0m\u001b[1;33m)\u001b[0m\u001b[1;33m\u001b[0m\u001b[1;33m\u001b[0m\u001b[0m\n\u001b[0;32m      3\u001b[0m \u001b[0mdfmap\u001b[0m \u001b[1;33m=\u001b[0m \u001b[0mdf1\u001b[0m\u001b[1;33m[\u001b[0m\u001b[1;33m[\u001b[0m\u001b[1;34m'funding_agency_name'\u001b[0m\u001b[1;33m,\u001b[0m\u001b[1;34m'minority'\u001b[0m\u001b[1;33m,\u001b[0m\u001b[1;34m'recipient_state_name'\u001b[0m\u001b[1;33m,\u001b[0m\u001b[1;34m'base_and_exercised_options_value'\u001b[0m\u001b[1;33m]\u001b[0m\u001b[1;33m]\u001b[0m\u001b[1;33m\u001b[0m\u001b[1;33m\u001b[0m\u001b[0m\n\u001b[0;32m      4\u001b[0m \u001b[0mzz\u001b[0m \u001b[1;33m=\u001b[0m \u001b[0mdfmap\u001b[0m\u001b[1;33m.\u001b[0m\u001b[0mgroupby\u001b[0m\u001b[1;33m(\u001b[0m\u001b[1;33m[\u001b[0m\u001b[1;34m'funding_agency_name'\u001b[0m\u001b[1;33m,\u001b[0m\u001b[1;34m'minority'\u001b[0m\u001b[1;33m,\u001b[0m\u001b[1;34m'recipient_state_name'\u001b[0m\u001b[1;33m]\u001b[0m\u001b[1;33m)\u001b[0m\u001b[1;33m[\u001b[0m\u001b[1;33m[\u001b[0m\u001b[1;34m'base_and_exercised_options_value'\u001b[0m\u001b[1;33m]\u001b[0m\u001b[1;33m]\u001b[0m\u001b[1;33m.\u001b[0m\u001b[0msum\u001b[0m\u001b[1;33m(\u001b[0m\u001b[1;33m)\u001b[0m\u001b[1;33m\u001b[0m\u001b[1;33m\u001b[0m\u001b[0m\n\u001b[0;32m      5\u001b[0m \u001b[0mdfmap\u001b[0m \u001b[1;33m=\u001b[0m \u001b[0mdfmap\u001b[0m\u001b[1;33m.\u001b[0m\u001b[0mgroupby\u001b[0m\u001b[1;33m(\u001b[0m\u001b[1;33m[\u001b[0m\u001b[1;34m'funding_agency_name'\u001b[0m\u001b[1;33m,\u001b[0m\u001b[1;34m'minority'\u001b[0m\u001b[1;33m,\u001b[0m\u001b[1;34m'recipient_state_name'\u001b[0m\u001b[1;33m]\u001b[0m\u001b[1;33m)\u001b[0m\u001b[1;33m[\u001b[0m\u001b[1;33m[\u001b[0m\u001b[1;34m'base_and_exercised_options_value'\u001b[0m\u001b[1;33m]\u001b[0m\u001b[1;33m]\u001b[0m\u001b[1;33m.\u001b[0m\u001b[0msum\u001b[0m\u001b[1;33m(\u001b[0m\u001b[1;33m)\u001b[0m\u001b[1;33m.\u001b[0m\u001b[0munstack\u001b[0m\u001b[1;33m(\u001b[0m\u001b[1;34m'minority'\u001b[0m\u001b[1;33m)\u001b[0m\u001b[1;33m\u001b[0m\u001b[1;33m\u001b[0m\u001b[0m\n",
      "\u001b[1;31mNameError\u001b[0m: name 'df1' is not defined"
     ]
    }
   ],
   "source": [
    "df1 = df1.dropna(subset=['recipient_state_name'])\n",
    "df1['recipient_state_name'] = df1['recipient_state_name'].apply(lambda x: us_state_abbrev[x])\n",
    "dfmap = df1[['funding_agency_name','minority','recipient_state_name','base_and_exercised_options_value']]\n",
    "zz = dfmap.groupby(['funding_agency_name','minority','recipient_state_name'])[['base_and_exercised_options_value']].sum()\n",
    "dfmap = dfmap.groupby(['funding_agency_name','minority','recipient_state_name'])[['base_and_exercised_options_value']].sum().unstack('minority')\n",
    "dfmap.columns = ['Minority','Non-Minority']\n",
    "dfmap = dfmap.fillna(0)\n",
    "dfmap = dfmap.reset_index()"
   ]
  },
  {
   "cell_type": "code",
   "execution_count": 13,
   "metadata": {},
   "outputs": [
    {
     "ename": "NameError",
     "evalue": "name 'zz' is not defined",
     "output_type": "error",
     "traceback": [
      "\u001b[1;31m---------------------------------------------------------------------------\u001b[0m",
      "\u001b[1;31mNameError\u001b[0m                                 Traceback (most recent call last)",
      "\u001b[1;32m<ipython-input-13-7aaac062545d>\u001b[0m in \u001b[0;36m<module>\u001b[1;34m\u001b[0m\n\u001b[1;32m----> 1\u001b[1;33m \u001b[0mz\u001b[0m\u001b[1;33m=\u001b[0m\u001b[0mpd\u001b[0m\u001b[1;33m.\u001b[0m\u001b[0mDataFrame\u001b[0m\u001b[1;33m(\u001b[0m\u001b[0mzz\u001b[0m\u001b[1;33m.\u001b[0m\u001b[0mgroupby\u001b[0m\u001b[1;33m(\u001b[0m\u001b[0mby\u001b[0m\u001b[1;33m=\u001b[0m\u001b[1;33m[\u001b[0m\u001b[1;34m'minority'\u001b[0m\u001b[1;33m]\u001b[0m\u001b[1;33m)\u001b[0m\u001b[1;33m.\u001b[0m\u001b[0mdescribe\u001b[0m\u001b[1;33m(\u001b[0m\u001b[1;33m)\u001b[0m\u001b[1;33m)\u001b[0m\u001b[1;33m\u001b[0m\u001b[1;33m\u001b[0m\u001b[0m\n\u001b[0m\u001b[0;32m      2\u001b[0m \u001b[0mbins\u001b[0m \u001b[1;33m=\u001b[0m \u001b[1;33m[\u001b[0m\u001b[0mz\u001b[0m\u001b[1;33m.\u001b[0m\u001b[0miloc\u001b[0m\u001b[1;33m[\u001b[0m\u001b[1;36m0\u001b[0m\u001b[1;33m,\u001b[0m\u001b[1;36m3\u001b[0m\u001b[1;33m]\u001b[0m\u001b[1;33m,\u001b[0m\u001b[0mz\u001b[0m\u001b[1;33m.\u001b[0m\u001b[0miloc\u001b[0m\u001b[1;33m[\u001b[0m\u001b[1;36m0\u001b[0m\u001b[1;33m,\u001b[0m\u001b[1;36m4\u001b[0m\u001b[1;33m]\u001b[0m\u001b[1;33m,\u001b[0m\u001b[0mz\u001b[0m\u001b[1;33m.\u001b[0m\u001b[0miloc\u001b[0m\u001b[1;33m[\u001b[0m\u001b[1;36m0\u001b[0m\u001b[1;33m,\u001b[0m\u001b[1;36m5\u001b[0m\u001b[1;33m]\u001b[0m\u001b[1;33m,\u001b[0m\u001b[0mz\u001b[0m\u001b[1;33m.\u001b[0m\u001b[0miloc\u001b[0m\u001b[1;33m[\u001b[0m\u001b[1;36m0\u001b[0m\u001b[1;33m,\u001b[0m\u001b[1;36m6\u001b[0m\u001b[1;33m]\u001b[0m\u001b[1;33m,\u001b[0m\u001b[0mz\u001b[0m\u001b[1;33m.\u001b[0m\u001b[0miloc\u001b[0m\u001b[1;33m[\u001b[0m\u001b[1;36m0\u001b[0m\u001b[1;33m,\u001b[0m\u001b[1;36m7\u001b[0m\u001b[1;33m]\u001b[0m\u001b[1;33m]\u001b[0m\u001b[1;33m\u001b[0m\u001b[1;33m\u001b[0m\u001b[0m\n\u001b[0;32m      3\u001b[0m \u001b[0mlabels\u001b[0m \u001b[1;33m=\u001b[0m \u001b[1;33m[\u001b[0m\u001b[1;36m1\u001b[0m\u001b[1;33m,\u001b[0m\u001b[1;36m2\u001b[0m\u001b[1;33m,\u001b[0m\u001b[1;36m3\u001b[0m\u001b[1;33m,\u001b[0m\u001b[1;36m4\u001b[0m\u001b[1;33m]\u001b[0m\u001b[1;33m\u001b[0m\u001b[1;33m\u001b[0m\u001b[0m\n\u001b[0;32m      4\u001b[0m \u001b[0mdfmap\u001b[0m\u001b[1;33m[\u001b[0m\u001b[1;34m'biMx'\u001b[0m\u001b[1;33m]\u001b[0m \u001b[1;33m=\u001b[0m \u001b[0mpd\u001b[0m\u001b[1;33m.\u001b[0m\u001b[0mcut\u001b[0m\u001b[1;33m(\u001b[0m\u001b[0mdfmap\u001b[0m\u001b[1;33m[\u001b[0m\u001b[1;34m'Minority'\u001b[0m\u001b[1;33m]\u001b[0m\u001b[1;33m,\u001b[0m \u001b[0mbins\u001b[0m\u001b[1;33m=\u001b[0m\u001b[0mbins\u001b[0m\u001b[1;33m,\u001b[0m \u001b[0mlabels\u001b[0m \u001b[1;33m=\u001b[0m \u001b[0mlabels\u001b[0m\u001b[1;33m)\u001b[0m\u001b[1;33m\u001b[0m\u001b[1;33m\u001b[0m\u001b[0m\n\u001b[0;32m      5\u001b[0m \u001b[0mbins\u001b[0m \u001b[1;33m=\u001b[0m \u001b[1;33m[\u001b[0m\u001b[0mz\u001b[0m\u001b[1;33m.\u001b[0m\u001b[0miloc\u001b[0m\u001b[1;33m[\u001b[0m\u001b[1;36m1\u001b[0m\u001b[1;33m,\u001b[0m\u001b[1;36m3\u001b[0m\u001b[1;33m]\u001b[0m\u001b[1;33m,\u001b[0m\u001b[0mz\u001b[0m\u001b[1;33m.\u001b[0m\u001b[0miloc\u001b[0m\u001b[1;33m[\u001b[0m\u001b[1;36m1\u001b[0m\u001b[1;33m,\u001b[0m\u001b[1;36m4\u001b[0m\u001b[1;33m]\u001b[0m\u001b[1;33m,\u001b[0m\u001b[0mz\u001b[0m\u001b[1;33m.\u001b[0m\u001b[0miloc\u001b[0m\u001b[1;33m[\u001b[0m\u001b[1;36m1\u001b[0m\u001b[1;33m,\u001b[0m\u001b[1;36m5\u001b[0m\u001b[1;33m]\u001b[0m\u001b[1;33m,\u001b[0m\u001b[0mz\u001b[0m\u001b[1;33m.\u001b[0m\u001b[0miloc\u001b[0m\u001b[1;33m[\u001b[0m\u001b[1;36m1\u001b[0m\u001b[1;33m,\u001b[0m\u001b[1;36m6\u001b[0m\u001b[1;33m]\u001b[0m\u001b[1;33m,\u001b[0m\u001b[0mz\u001b[0m\u001b[1;33m.\u001b[0m\u001b[0miloc\u001b[0m\u001b[1;33m[\u001b[0m\u001b[1;36m1\u001b[0m\u001b[1;33m,\u001b[0m\u001b[1;36m7\u001b[0m\u001b[1;33m]\u001b[0m\u001b[1;33m]\u001b[0m\u001b[1;33m\u001b[0m\u001b[1;33m\u001b[0m\u001b[0m\n",
      "\u001b[1;31mNameError\u001b[0m: name 'zz' is not defined"
     ]
    }
   ],
   "source": [
    "z=pd.DataFrame(zz.groupby(by=['minority']).describe())\n",
    "bins = [z.iloc[0,3],z.iloc[0,4],z.iloc[0,5],z.iloc[0,6],z.iloc[0,7]]\n",
    "labels = [1,2,3,4]\n",
    "dfmap['biMx'] = pd.cut(dfmap['Minority'], bins=bins, labels = labels)\n",
    "bins = [z.iloc[1,3],z.iloc[1,4],z.iloc[1,5],z.iloc[1,6],z.iloc[1,7]]\n",
    "labels = [10,100,1000,10000]\n",
    "dfmap['biNMx'] = pd.cut(dfmap['Non-Minority'], bins=bins, labels = labels)\n",
    "dfmap['biMx']=pd.to_numeric(dfmap['biMx'])\n",
    "dfmap['biNMx']=pd.to_numeric(dfmap['biNMx'])\n",
    "dfmap[['biMx','biNMx']] = dfmap[['biMx','biNMx']].fillna(0)\n",
    "dfmap['concat3']=dfmap.biMx*dfmap.biNMx"
   ]
  },
  {
   "cell_type": "code",
   "execution_count": 7,
   "metadata": {},
   "outputs": [
    {
     "ename": "NameError",
     "evalue": "name 'dash' is not defined",
     "output_type": "error",
     "traceback": [
      "\u001b[1;31m---------------------------------------------------------------------------\u001b[0m",
      "\u001b[1;31mNameError\u001b[0m                                 Traceback (most recent call last)",
      "\u001b[1;32m<ipython-input-7-bfa4d20df47f>\u001b[0m in \u001b[0;36m<module>\u001b[1;34m\u001b[0m\n\u001b[0;32m     10\u001b[0m     )\n\u001b[0;32m     11\u001b[0m \u001b[1;33m\u001b[0m\u001b[0m\n\u001b[1;32m---> 12\u001b[1;33m \u001b[0mapp\u001b[0m \u001b[1;33m=\u001b[0m \u001b[0mdash\u001b[0m\u001b[1;33m.\u001b[0m\u001b[0mDash\u001b[0m\u001b[1;33m(\u001b[0m\u001b[1;33m)\u001b[0m\u001b[1;33m\u001b[0m\u001b[1;33m\u001b[0m\u001b[0m\n\u001b[0m\u001b[0;32m     13\u001b[0m \u001b[1;33m\u001b[0m\u001b[0m\n\u001b[0;32m     14\u001b[0m app.layout = html.Div([\n",
      "\u001b[1;31mNameError\u001b[0m: name 'dash' is not defined"
     ]
    }
   ],
   "source": [
    "def generate_table(dataframe, max_rows=10):\n",
    "    return html.Table(\n",
    "        # Header\n",
    "        [html.Tr([html.Th(col) for col in dataframe.columns])] +\n",
    "\n",
    "        # Body\n",
    "        [html.Tr([\n",
    "            html.Td(dataframe.iloc[i][col]) for col in dataframe.columns\n",
    "        ]) for i in range(min(len(dataframe), max_rows))]\n",
    "    )\n",
    "\n",
    "app = dash.Dash()\n",
    "\n",
    "app.layout = html.Div([\n",
    "    html.Div([\n",
    "            html.H1(\n",
    "                'Government Fund Allocations between Business Groups',\n",
    "            ),\n",
    "            html.H3(\n",
    "                'Contract Values Awarded to Minority Owned Small Business (MOSB) Groups (Q3 2017 and Q1 2018)',\n",
    "            )\n",
    "            ], \n",
    "            style={'width': '100%', 'float': 'center', 'display': 'inline-block', 'borderBottom': 'thin grey solid',\n",
    "        'padding': '5px 5px'}\n",
    "            ),\n",
    "    html.P(''),\n",
    "    html.P(''),\n",
    "    html.Div(\n",
    "            [\n",
    "            html.Div([\n",
    "            html.H3('Introduction'),\n",
    "            html.H6('Government contracts are a lucrative business in the US.  In 2017, the government spent $3.98 trillion (source: https://www.usaspending.gov/#/). The government spends billions in contracts across various agencies under the federal branch.  This does not include funds that are funnelled back to the states through state and local grants. These contracts include purchases of items (ammunition, machinery) to consulting services. Companies have the opportunity to submit bids in hopes of getting the some of these potentially lucrative contracts.'),    \n",
    "            html.P(''),            \n",
    "            html.P(''), \n",
    "            html.H6('The focus of this app is to highlight how underrepresented companies (Women, Native American, Disabled, Hispanic, African American among others) compare to larger predominantly Anglo owned and ran companies. Companies that are a part of this designation (i.e. had a callout column in the dataset) will be designed as minority owned and will be referred to as Minority and all others as Non-Minority.'),\n",
    "            html.H6(''),\n",
    "            html.H6('The original dataset had two files almost 1.5 GB in size.  The full dataset had the following information:'),\n",
    "            html.Div(\n",
    "            [\n",
    "                    html.Table(\n",
    "                        [\n",
    "                            html.Tr( [html.Th(\"Recipient Designation\"), html.Th(\"Count\"), html.Th(\"All Options\"), html.Th(\"Exercised Options\")] )\n",
    "                        ] +\n",
    "                        [\n",
    "                            html.Tr( [html.Td(\"Minority\"), html.Td(\"185,995\"), html.Td(\"2,495,650,514,426.82\"), html.Td(\"18,922,884,624.12\")] ),\n",
    "                            html.Tr( [html.Td(\"Non-Minority\"), html.Td(\"933,260\"), html.Td(\"2,290,596,091,995.63\"), html.Td(\"131,959,104,917.72\")] )\n",
    "                        ]\n",
    "                    )\n",
    "                    ],style={'width': '100%', 'align': 'center'}\n",
    "                    ),\n",
    "            html.P(''),\n",
    "            html.H6('From above it can be seen that there is a $2.5 T in potential max contract sizes for minority designated businesses and $2.3 T for non-minority business which is close to a 50/50 split, however, the exercised value of the contracts shows $18.9 B in exercised max contract sizes for minority designated businesses and $132.0 B for non-minority business which is a 13/87 split. For the purpsoes of this app and analysis the actual exercised options will be used for this analysis. '),\n",
    "            html.H6('In order to make it efficient and to reduce load times of the app, only 10% of the dataset was loaded directly in memory using the Zipfile functions in python.   US recipients were also only used to focus the analysis on a domestic-centric point of view.  This means that approximately 13-16 B worth of contracts will be used everytime the data is loaded.')\n",
    "            ], className=\"seven columns\"),\n",
    "    \n",
    "            html.Div([\n",
    "            html.H3('Fig 1. Awarded Contracts for All Federal Agencies ($USD M)'),\n",
    "            dcc.Graph(id='site-graph5')\n",
    "            ], className=\"five columns\"),\n",
    "            ], className=\"row\"),\n",
    "    html.H3('Fig 2.  Contracts Awarded by Business Designation for Top 30 Agencies ($USD and % Percentage)'),\n",
    "    html.Div(\n",
    "            [\n",
    "            html.Div([\n",
    "            html.H3(' '),\n",
    "            dcc.Graph(id='site-graph4')\n",
    "            ], className=\"six columns\"),\n",
    "                    \n",
    "            html.Div([\n",
    "            html.H3(' '),\n",
    "            dcc.Graph(id='site-graphpercent')\n",
    "            ], className=\"six columns\"),\n",
    "            \n",
    "            ], className=\"row\"\n",
    "            ),\n",
    "    html.Div(\n",
    "            [html.H3(' ')\n",
    "            ], \n",
    "            style={'width': '100%', 'float': 'center', 'display': 'inline-block', 'borderBottom': 'thin grey solid',\n",
    "                   'padding': '5px 5px'}\n",
    "            ),\n",
    "    html.H6('The above Figure 2 paints an interesting picture.  It can be hard to see on the left side of Figure 2 that the Department of Defense which spends the most on contracts has a unbalanced ratio of funds going to non-minority businesses.  By having the contract value (log scale) side-by-side with the percentage split, the disparity between awarding contracts between these groups becomes more apparent.  What is more intersting is that only 7 of the top 30 federal agencies gave 50% or more of the funds to MOSBs.  What is surpising is that NASA is an unablanced agency considering their outward PR campaign for diversity and inclusion and promoting STEM for all children.'),\n",
    "    html.Div([\n",
    "            html.H3(\n",
    "                'Please select a funding agency to for review.',\n",
    "            ),\n",
    "            dcc.Dropdown(\n",
    "            id=\"Agency\",\n",
    "            options=[{\n",
    "                'label': i,\n",
    "                'value': i\n",
    "            } for i in agency_options],\n",
    "            value=agency_options[1])\n",
    "            ], \n",
    "            style={'width': '100%', 'float': 'center', 'display': 'inline-block', 'borderBottom': 'thin grey solid',\n",
    "        'padding': '5px 5px'}\n",
    "            ),   \n",
    "    html.P(''), \n",
    "    html.H6('Figure 3 and Figure 4 show the specific agency data.  The pie chart shows the overall exercised vaues of the awarded contracts broken up by business designation.  The US map shows which company designation received most of the funds for this particular agency by state (binary minority vs non-minority) using data quartiles. Minority designated businesses were ranked with negative values and Non-Minority designated busiensses were ranked with positive values.'),\n",
    "    html.H6('Figure 5 provides a glimpse into the average contract value by minoirty group for the selected agency. Companies that are a part of this designation (i.e. had a callout column in the dataset) will be designed as minority owned and will be referred to as Minority and all others as Non-Minority.  Figure 6 shows the overall distribution of all the awarded contracts for the selected agency, this view helps see the spread of the data in a similar form that a histogram may.'),\n",
    "    html.Div(\n",
    "            [\n",
    "            html.Div([\n",
    "            html.H3('Fig 3. Awarded Contracts for Selected Agency ($USD M)'),\n",
    "            dcc.Graph(id='site-graphagencypie')\n",
    "            ], className=\"six columns\"),\n",
    "    \n",
    "            html.Div([\n",
    "            html.H3('Fig 4. State Breakdown of MOSB Contract Awards for Selected Agency ($USD M)'),\n",
    "            dcc.Graph(id='site-graphmap')\n",
    "            ], className=\"six columns\"),    \n",
    "\n",
    "            ], className=\"row\"),\n",
    "    html.Div(\n",
    "        [\n",
    "        html.Div([\n",
    "        html.H3('Fig 5. Average Contract Value per Minority Group Awarded for Selected Agency'),\n",
    "        dcc.Graph(id='site-graph3')\n",
    "        ], className=\"six columns\"),\n",
    "\n",
    "        html.Div([\n",
    "        html.H3('Fig 6. Contract Value Box Plots per Business Designation ($ USD)'),\n",
    "        dcc.Graph(id='site-graphBP')\n",
    "        ], className=\"six columns\"),    \n",
    "\n",
    "        ], className=\"row\"),\n",
    "#   html.H3('Fig 5. Average Contract Value per Minority Group Awarded for Selected Agency'),\n",
    "#   dcc.Graph(id='site-graph3'),\n",
    "#   dcc.Graph(id='site-graphBP'),\n",
    "#   dcc.Graph(id='site-graph4'),\n",
    "#   dcc.Graph(id='site-graph5'),\n",
    "#   dcc.Graph(id='site-graph2'),\n",
    "#   dcc.Graph(id='table-container'),\n",
    "#   dcc.Graph(id='site-graph'),\n",
    "    html.P(''),\n",
    "    html.H3('Conclusion'),\n",
    "    html.H6('The information found in the USA spending website provided an interesting glimpse to the businesses practices of our federal government.  The funnel analysis from nation-wide to agency level also shows interesting trends that allows the user to draw their own conclusions of the practices of each agency.  Overall, the majority of US agencies show an unbalanced awarding beahvior of contracts to non-MOSBs.  Those that do award contracts to MOSBs are not the larger agencies (i.e. DOD, DOJ) but smaller ones.  This might be a function of just the availability of large companies that are designated MOSBs vs traditional companies like ARUP, Jacobs Engineering and can therefore skew the data indirectly.'),\n",
    "    html.P(''),\n",
    "    html.H3('Future Considerations'),\n",
    "    html.H6('There is one caveat to the analysis, what is not availabel in the data is the submission process and determining how many applications from each business designation actually submitted a proposal.  This is important because if the information was available it could provide a weight to the information to further highlight the awarding behavior of the agencies.'),\n",
    "    html.H6('In addition, the data does have other interesting data that could be used for analysis like what was purchased/contracted with the recipient, the NAICS code of the business, and even the sub-agency that ultimately was repsonsible for the oversight of the contract.'),\n",
    "    html.P('Created by Cesar L. Espitia for Data 608 Spring 2018.  Final Project App Submission.')\n",
    "])\n",
    "\n",
    "    \n",
    "@app.callback(\n",
    "    dash.dependencies.Output('site-graphmap', 'figure'),\n",
    "    [dash.dependencies.Input('Agency', 'value')])\n",
    "def update_graph(Agency):\n",
    "    df_plot = dfmap[(dfmap['funding_agency_name'] == Agency)]"
   ]
  },
  {
   "cell_type": "code",
   "execution_count": 8,
   "metadata": {},
   "outputs": [
    {
     "ename": "NameError",
     "evalue": "name 'app' is not defined",
     "output_type": "error",
     "traceback": [
      "\u001b[1;31m---------------------------------------------------------------------------\u001b[0m",
      "\u001b[1;31mNameError\u001b[0m                                 Traceback (most recent call last)",
      "\u001b[1;32m<ipython-input-8-d6ee53da738f>\u001b[0m in \u001b[0;36m<module>\u001b[1;34m\u001b[0m\n\u001b[0;32m      1\u001b[0m \u001b[1;31m#This graph shows the value of funding for minority groups from the selected agency.\u001b[0m\u001b[1;33m\u001b[0m\u001b[1;33m\u001b[0m\u001b[1;33m\u001b[0m\u001b[0m\n\u001b[1;32m----> 2\u001b[1;33m @app.callback(\n\u001b[0m\u001b[0;32m      3\u001b[0m     \u001b[0mdash\u001b[0m\u001b[1;33m.\u001b[0m\u001b[0mdependencies\u001b[0m\u001b[1;33m.\u001b[0m\u001b[0mOutput\u001b[0m\u001b[1;33m(\u001b[0m\u001b[1;34m'site-graph3'\u001b[0m\u001b[1;33m,\u001b[0m \u001b[1;34m'figure'\u001b[0m\u001b[1;33m)\u001b[0m\u001b[1;33m,\u001b[0m\u001b[1;33m\u001b[0m\u001b[1;33m\u001b[0m\u001b[0m\n\u001b[0;32m      4\u001b[0m     [dash.dependencies.Input('Agency', 'value')])\n\u001b[0;32m      5\u001b[0m \u001b[1;32mdef\u001b[0m \u001b[0mupdate_graph\u001b[0m\u001b[1;33m(\u001b[0m\u001b[0mAgency\u001b[0m\u001b[1;33m)\u001b[0m\u001b[1;33m:\u001b[0m\u001b[1;33m\u001b[0m\u001b[1;33m\u001b[0m\u001b[0m\n",
      "\u001b[1;31mNameError\u001b[0m: name 'app' is not defined"
     ]
    }
   ],
   "source": [
    "#This graph shows the value of funding for minority groups from the selected agency.\n",
    "@app.callback(\n",
    "    dash.dependencies.Output('site-graph3', 'figure'),\n",
    "    [dash.dependencies.Input('Agency', 'value')])\n",
    "def update_graph(Agency):\n",
    "    df_plot = df5[(df5['funding_agency_name'] == Agency)].groupby(by=['level_6'])[['base_and_exercised_options_value']].mean()\n",
    "    df_plot = df_plot.reset_index()\n",
    "    df_plot = df_plot.sort_values(by=['base_and_exercised_options_value'], ascending=[True])\n",
    "    data=[\n",
    "            go.Bar(x=df_plot['base_and_exercised_options_value'],\n",
    "                   y=df_plot['level_6'],\n",
    "                   orientation = 'h',\n",
    "                   name='MOSBs',\n",
    "                   marker = dict(\n",
    "                            color = 'rgb(190,114,60)'\n",
    "                            )\n",
    "                   )\n",
    "            ]    \n",
    "    \n",
    "    return {\n",
    "        'data': data,\n",
    "        'layout':\n",
    "        go.Layout(\n",
    "                barmode='stack',\n",
    "                xaxis={'title': 'Contract Value (Log Scale)', 'type':'log'},\n",
    "                height=600,\n",
    "                margin={'l': 400, 'b': 50, 't': 10, 'r': 10}\n",
    "            )\n",
    "    }"
   ]
  },
  {
   "cell_type": "code",
   "execution_count": 9,
   "metadata": {},
   "outputs": [
    {
     "ename": "NameError",
     "evalue": "name 'app' is not defined",
     "output_type": "error",
     "traceback": [
      "\u001b[1;31m---------------------------------------------------------------------------\u001b[0m",
      "\u001b[1;31mNameError\u001b[0m                                 Traceback (most recent call last)",
      "\u001b[1;32m<ipython-input-9-5bb749ca6bbf>\u001b[0m in \u001b[0;36m<module>\u001b[1;34m\u001b[0m\n\u001b[0;32m      1\u001b[0m \u001b[1;33m\u001b[0m\u001b[0m\n\u001b[0;32m      2\u001b[0m \u001b[1;31m#This is a box plot to show the distribution of each business designation for the agency.\u001b[0m\u001b[1;33m\u001b[0m\u001b[1;33m\u001b[0m\u001b[1;33m\u001b[0m\u001b[0m\n\u001b[1;32m----> 3\u001b[1;33m @app.callback(\n\u001b[0m\u001b[0;32m      4\u001b[0m     \u001b[0mdash\u001b[0m\u001b[1;33m.\u001b[0m\u001b[0mdependencies\u001b[0m\u001b[1;33m.\u001b[0m\u001b[0mOutput\u001b[0m\u001b[1;33m(\u001b[0m\u001b[1;34m'site-graphBP'\u001b[0m\u001b[1;33m,\u001b[0m \u001b[1;34m'figure'\u001b[0m\u001b[1;33m)\u001b[0m\u001b[1;33m,\u001b[0m\u001b[1;33m\u001b[0m\u001b[1;33m\u001b[0m\u001b[0m\n\u001b[0;32m      5\u001b[0m     [dash.dependencies.Input('Agency', 'value')])\n",
      "\u001b[1;31mNameError\u001b[0m: name 'app' is not defined"
     ]
    }
   ],
   "source": [
    "        \n",
    "#This is a box plot to show the distribution of each business designation for the agency.\n",
    "@app.callback(\n",
    "    dash.dependencies.Output('site-graphBP', 'figure'),\n",
    "    [dash.dependencies.Input('Agency', 'value')])\n",
    "def update_graph(Agency):\n",
    "    df_plotm = df1[(df1['minority'] == 'Minority') & (df1['funding_agency_name'] == Agency)]\n",
    "    df_plotmn = df1[(df1['minority'] == 'Non-Minority')& (df1['funding_agency_name'] == Agency)]\n",
    "    data=[\n",
    "            go.Box(y=df_plotm['base_and_exercised_options_value'], \n",
    "                    #x=df_plotm['base_and_exercised_options_value'],\n",
    "                     #orientation = 'h',\n",
    "                     name='Minority',\n",
    "                    boxpoints = 'all',\n",
    "                    jitter = 0.3,\n",
    "                    marker = dict(\n",
    "                            color = 'rgb(190,114,60)'\n",
    "                            ),\n",
    "                            boxmean=True\n",
    "                    ),\n",
    "            go.Box(y=df_plotmn['base_and_exercised_options_value'], \n",
    "                    #x=df_plotmn['base_and_exercised_options_value'],\n",
    "                     #orientation = 'h',\n",
    "                     name='Non-Minority',\n",
    "                    boxpoints = 'all',\n",
    "                    jitter = 0.3,\n",
    "                    marker = dict(\n",
    "                            color = 'rgb(236,213,207)'\n",
    "                            ),\n",
    "                            boxmean=True\n",
    "                    )\n",
    "            ]    \n",
    "    \n",
    "    return {\n",
    "        'data': data,\n",
    "                'layout':\n",
    "        go.Layout(\n",
    "                yaxis={'title': 'Contract Value (Log Scale)', 'type':'log'},\n",
    "                height=600,\n",
    "                margin={'l': 100, 'b': 50, 't': 10, 'r': 10}\n",
    "            )\n",
    "    }"
   ]
  },
  {
   "cell_type": "code",
   "execution_count": 10,
   "metadata": {},
   "outputs": [
    {
     "ename": "NameError",
     "evalue": "name 'app' is not defined",
     "output_type": "error",
     "traceback": [
      "\u001b[1;31m---------------------------------------------------------------------------\u001b[0m",
      "\u001b[1;31mNameError\u001b[0m                                 Traceback (most recent call last)",
      "\u001b[1;32m<ipython-input-10-6c514786844d>\u001b[0m in \u001b[0;36m<module>\u001b[1;34m\u001b[0m\n\u001b[0;32m      1\u001b[0m \u001b[1;31m#top 30 agency chart\u001b[0m\u001b[1;33m\u001b[0m\u001b[1;33m\u001b[0m\u001b[1;33m\u001b[0m\u001b[0m\n\u001b[1;32m----> 2\u001b[1;33m @app.callback(\n\u001b[0m\u001b[0;32m      3\u001b[0m     \u001b[0mdash\u001b[0m\u001b[1;33m.\u001b[0m\u001b[0mdependencies\u001b[0m\u001b[1;33m.\u001b[0m\u001b[0mOutput\u001b[0m\u001b[1;33m(\u001b[0m\u001b[1;34m'site-graph4'\u001b[0m\u001b[1;33m,\u001b[0m \u001b[1;34m'figure'\u001b[0m\u001b[1;33m)\u001b[0m\u001b[1;33m,\u001b[0m\u001b[1;33m\u001b[0m\u001b[1;33m\u001b[0m\u001b[0m\n\u001b[0;32m      4\u001b[0m     [dash.dependencies.Input('Agency', 'value')])\n\u001b[0;32m      5\u001b[0m \u001b[1;32mdef\u001b[0m \u001b[0mupdate_graph\u001b[0m\u001b[1;33m(\u001b[0m\u001b[0mAgency\u001b[0m\u001b[1;33m)\u001b[0m\u001b[1;33m:\u001b[0m\u001b[1;33m\u001b[0m\u001b[1;33m\u001b[0m\u001b[0m\n",
      "\u001b[1;31mNameError\u001b[0m: name 'app' is not defined"
     ]
    }
   ],
   "source": [
    "#top 30 agency chart\n",
    "@app.callback(\n",
    "    dash.dependencies.Output('site-graph4', 'figure'),\n",
    "    [dash.dependencies.Input('Agency', 'value')])\n",
    "def update_graph(Agency):\n",
    "    df_plotm = allm[(allm['minority'] == 'Minority')]\n",
    "    df_plotmn = allm[(allm['minority'] == 'Non-Minority')]\n",
    "    data=[\n",
    "            go.Bar(y=df_plotm['funding_agency_name'], \n",
    "                    x=df_plotm['base_and_exercised_options_value'],\n",
    "                     orientation = 'h',\n",
    "                     name='Minority',\n",
    "                    marker = dict(\n",
    "                            color = 'rgb(190,114,60)'\n",
    "                            )\n",
    "                    ),\n",
    "            go.Bar(y=df_plotmn['funding_agency_name'], \n",
    "                    x=df_plotmn['base_and_exercised_options_value'],\n",
    "                     orientation = 'h',\n",
    "                     name='Non-Minority',\n",
    "                    marker = dict(\n",
    "                            color = 'rgb(236,213,207)'\n",
    "                            )\n",
    "                    )\n",
    "            ]    \n",
    "    \n",
    "    return {\n",
    "        'data': data,\n",
    "        'layout':\n",
    "        go.Layout(\n",
    "                barmode='stack',\n",
    "                xaxis={'title': 'Contract Value (Log Scale)', 'type': 'log'},\n",
    "                height=700,\n",
    "                showlegend = False,\n",
    "                margin={'l': 500, 'b': 50, 't': 10, 'r': 10}\n",
    "            )\n",
    "    }"
   ]
  },
  {
   "cell_type": "code",
   "execution_count": 11,
   "metadata": {},
   "outputs": [
    {
     "ename": "NameError",
     "evalue": "name 'app' is not defined",
     "output_type": "error",
     "traceback": [
      "\u001b[1;31m---------------------------------------------------------------------------\u001b[0m",
      "\u001b[1;31mNameError\u001b[0m                                 Traceback (most recent call last)",
      "\u001b[1;32m<ipython-input-11-ffc37eedc228>\u001b[0m in \u001b[0;36m<module>\u001b[1;34m\u001b[0m\n\u001b[0;32m      1\u001b[0m \u001b[1;31m#top 30 agency percentage graph\u001b[0m\u001b[1;33m\u001b[0m\u001b[1;33m\u001b[0m\u001b[1;33m\u001b[0m\u001b[0m\n\u001b[1;32m----> 2\u001b[1;33m @app.callback(\n\u001b[0m\u001b[0;32m      3\u001b[0m     \u001b[0mdash\u001b[0m\u001b[1;33m.\u001b[0m\u001b[0mdependencies\u001b[0m\u001b[1;33m.\u001b[0m\u001b[0mOutput\u001b[0m\u001b[1;33m(\u001b[0m\u001b[1;34m'site-graphpercent'\u001b[0m\u001b[1;33m,\u001b[0m \u001b[1;34m'figure'\u001b[0m\u001b[1;33m)\u001b[0m\u001b[1;33m,\u001b[0m\u001b[1;33m\u001b[0m\u001b[1;33m\u001b[0m\u001b[0m\n\u001b[0;32m      4\u001b[0m     [dash.dependencies.Input('Agency', 'value')])\n\u001b[0;32m      5\u001b[0m \u001b[1;32mdef\u001b[0m \u001b[0mupdate_graph\u001b[0m\u001b[1;33m(\u001b[0m\u001b[0mAgency\u001b[0m\u001b[1;33m)\u001b[0m\u001b[1;33m:\u001b[0m\u001b[1;33m\u001b[0m\u001b[1;33m\u001b[0m\u001b[0m\n",
      "\u001b[1;31mNameError\u001b[0m: name 'app' is not defined"
     ]
    }
   ],
   "source": [
    "#top 30 agency percentage graph\n",
    "@app.callback(\n",
    "    dash.dependencies.Output('site-graphpercent', 'figure'),\n",
    "    [dash.dependencies.Input('Agency', 'value')])\n",
    "def update_graph(Agency):\n",
    "    df_plotm = allm[(allm['minority'] == 'Minority')]\n",
    "    df_plotmn = allm[(allm['minority'] == 'Non-Minority')]\n",
    "    data=[\n",
    "            go.Bar(y=df_plotm['funding_agency_name'], \n",
    "                    x=df_plotm['percentage'],\n",
    "                     orientation = 'h',\n",
    "                     name='Minority',\n",
    "                    marker = dict(\n",
    "                            color = 'rgb(190,114,60)'\n",
    "                            )\n",
    "                    ),\n",
    "            go.Bar(y=df_plotmn['funding_agency_name'], \n",
    "                    x=df_plotmn['percentage'],\n",
    "                     orientation = 'h',\n",
    "                     name='Non-Minority',\n",
    "                    marker = dict(\n",
    "                            color = 'rgb(236,213,207)'\n",
    "                            )\n",
    "                    )\n",
    "            ]    \n",
    "    \n",
    "    return {\n",
    "        'data': data,\n",
    "        'layout':\n",
    "        go.Layout(\n",
    "                barmode='stack',\n",
    "                xaxis={'title': 'Percentage by Group'},\n",
    "                yaxis=dict(showticklabels=False),\n",
    "                height=700,\n",
    "                margin={'l': 1, 'b': 50, 't': 10, 'r': 10}\n",
    "            )\n",
    "    }\n",
    "\n",
    "\n",
    "@app.callback(\n",
    "    dash.dependencies.Output('site-graph5', 'figure'),\n",
    "    [dash.dependencies.Input('Agency', 'value')])\n",
    "def update_graph(Agency):\n",
    "    df_plotm = all.copy()\n",
    "    data=[\n",
    "\n",
    "        go.Pie(labels=df_plotm['minority'], values=round(df_plotm['base_and_exercised_options_value']/1000000,0),\n",
    "               hoverinfo='label+percent', textinfo='value',\n",
    "               textfont=dict(size=20),\n",
    "               marker=dict(colors=['rgb(190,114,60)', 'rgb(236,213,207)'],\n",
    "                           ))\n",
    "            ]    \n",
    "    \n",
    "    return {\n",
    "        'data': data,\n",
    "        'layout':\n",
    "            go.Layout(\n",
    "                    height=700\n",
    "                    )\n",
    "    }\n"
   ]
  },
  {
   "cell_type": "code",
   "execution_count": 12,
   "metadata": {},
   "outputs": [
    {
     "ename": "NameError",
     "evalue": "name 'app' is not defined",
     "output_type": "error",
     "traceback": [
      "\u001b[1;31m---------------------------------------------------------------------------\u001b[0m",
      "\u001b[1;31mNameError\u001b[0m                                 Traceback (most recent call last)",
      "\u001b[1;32m<ipython-input-12-1bb827450b55>\u001b[0m in \u001b[0;36m<module>\u001b[1;34m\u001b[0m\n\u001b[0;32m      2\u001b[0m \u001b[1;33m\u001b[0m\u001b[0m\n\u001b[0;32m      3\u001b[0m \u001b[1;31m#Agency selceted pie chart\u001b[0m\u001b[1;33m\u001b[0m\u001b[1;33m\u001b[0m\u001b[1;33m\u001b[0m\u001b[0m\n\u001b[1;32m----> 4\u001b[1;33m @app.callback(\n\u001b[0m\u001b[0;32m      5\u001b[0m     \u001b[0mdash\u001b[0m\u001b[1;33m.\u001b[0m\u001b[0mdependencies\u001b[0m\u001b[1;33m.\u001b[0m\u001b[0mOutput\u001b[0m\u001b[1;33m(\u001b[0m\u001b[1;34m'site-graphagencypie'\u001b[0m\u001b[1;33m,\u001b[0m \u001b[1;34m'figure'\u001b[0m\u001b[1;33m)\u001b[0m\u001b[1;33m,\u001b[0m\u001b[1;33m\u001b[0m\u001b[1;33m\u001b[0m\u001b[0m\n\u001b[0;32m      6\u001b[0m     [dash.dependencies.Input('Agency', 'value')])\n",
      "\u001b[1;31mNameError\u001b[0m: name 'app' is not defined"
     ]
    }
   ],
   "source": [
    "#Agency selceted pie chart\n",
    "@app.callback(\n",
    "    dash.dependencies.Output('site-graphagencypie', 'figure'),\n",
    "    [dash.dependencies.Input('Agency', 'value')])\n",
    "def update_graph(Agency):\n",
    "    df_plotm = allm[(allm['funding_agency_name'] == Agency)].groupby(by=['minority'])[['base_and_exercised_options_value']].sum()\n",
    "    df_plotm = df_plotm.reset_index()\n",
    "    #df1[['funding_agency_name','minority','recipient_state_name','base_and_all_options_value']]\n",
    "    data=[\n",
    "\n",
    "        go.Pie(labels=df_plotm['minority'], values=round(df_plotm['base_and_exercised_options_value']/1000000,2),\n",
    "               hoverinfo='label+percent', textinfo='value',\n",
    "               textfont=dict(size=20),\n",
    "               marker=dict(colors=['rgb(190,114,60)','rgb(236,213,207)'],\n",
    "                           ))\n",
    "            ]    \n",
    "    \n",
    "    return {\n",
    "        'data': data\n",
    "    }\n",
    "\n",
    "app.css.append_css({\"external_url\": \"https://codepen.io/chriddyp/pen/bWLwgP.css\"})\n",
    "\n",
    "\n",
    "if __name__ == '__main__':\n",
    "    app.run_server(debug=True)"
   ]
  }
 ],
 "metadata": {
  "kernelspec": {
   "display_name": "Python 3",
   "language": "python",
   "name": "python3"
  },
  "language_info": {
   "codemirror_mode": {
    "name": "ipython",
    "version": 3
   },
   "file_extension": ".py",
   "mimetype": "text/x-python",
   "name": "python",
   "nbconvert_exporter": "python",
   "pygments_lexer": "ipython3",
   "version": "3.7.1"
  }
 },
 "nbformat": 4,
 "nbformat_minor": 2
}
